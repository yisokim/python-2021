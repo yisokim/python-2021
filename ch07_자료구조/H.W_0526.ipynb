{
 "cells": [
  {
   "cell_type": "markdown",
   "metadata": {},
   "source": [
    "### 시저 암호는, 고대 로마의 황제 줄리어스 시저가 만들어 낸 암호인데.\r\n",
    "### 예를 들어 알파벳 A를 입력했을 때, 그 알파벳의 N개 뒤에 오는 알파벳이 출력되는 것\r\n",
    "### 예를 들어 바꾸려는 단어가 \"CAT\"고, N을 5로 지정했을 때, \"HFY\"가 되는 것이다.\r\n",
    "### 어떠한 암호를 만들 문장과 N을 입력했을 때 암호를 만들어 출력하는 프로그램을 작성하시오,\r\n",
    "\r\n",
    "### - 입력 : 화면에서 문자열과 N값을 입력받는다. (EX) ROSE 5)\r\n",
    "### - 출력 : 암호화된 문자열을 출력"
   ]
  },
  {
   "cell_type": "markdown",
   "metadata": {},
   "source": [
    "### ■ 시저 암호란?\r\n",
    "어떤 문장의 각 알파벳을 일정한 거리만큼 밀어서 다른 알파벳으로 바꾸는 암호화 방식\r\n",
    "\r\n",
    "- 제한 조건\r\n",
    "1) 공백은 아무리 밀어도 공백\r\n",
    "2) s는 알파벳 소문자, 대문자, 공백으로 이뤄져 있다.\r\n",
    "3) s의 길이는 8000이하\r\n",
    "\r\n",
    "### ■ 문자열 <-> ascii code 변환\r\n",
    "    - ord()\r\n",
    "    - chr()"
   ]
  },
  {
   "cell_type": "code",
   "execution_count": 3,
   "metadata": {},
   "outputs": [
    {
     "data": {
      "text/plain": "65"
     },
     "execution_count": 3,
     "metadata": {},
     "output_type": "execute_result"
    }
   ],
   "source": [
    "# A의 ascii code 변환 값\r\n",
    "ord('A')"
   ]
  },
  {
   "cell_type": "code",
   "execution_count": 2,
   "metadata": {},
   "outputs": [
    {
     "data": {
      "text/plain": "'B'"
     },
     "execution_count": 2,
     "metadata": {},
     "output_type": "execute_result"
    }
   ],
   "source": [
    "chr(ord('A')+1)"
   ]
  },
  {
   "cell_type": "code",
   "execution_count": 8,
   "metadata": {},
   "outputs": [
    {
     "name": "stdout",
     "output_type": "stream",
     "text": [
      "H F Y\n"
     ]
    }
   ],
   "source": [
    "def solution(s, n):\r\n",
    "    s = list(s)  # 문자열을 ascii code변환을 위해 리스크 치환\r\n",
    "\r\n",
    "    for i in range(len(s)):  # len으로 글자수 세기\r\n",
    "        if s[i].isupper():\r\n",
    "            s[i]=chr((ord(s[i])-ord('A')+n)%26+ord('A'))\r\n",
    "            # (ord(s[i])-ord('A')+n)%26+ord('A') s의 ascii값 \r\n",
    "        elif s[i].islower():\r\n",
    "            s[i]=chr((ord(s[i])-ord('a')+n)%26+ord('a'))\r\n",
    "        \r\n",
    "    return \"\".join(s)  # \"\"을 기준으로 join\r\n",
    "\r\n",
    "print(solution(\"C A T\", 5))\r\n"
   ]
  },
  {
   "cell_type": "code",
   "execution_count": 1,
   "metadata": {},
   "outputs": [],
   "source": [
    "# 평문 -> 비문 encoding\r\n",
    "# def encode(plain, n):\r\n",
    "#     cipher = ''\r\n",
    "#     for c in plain:\r\n",
    "#         diff = ord(c) - ord('A') + n\r\n",
    "#         if diff >= 26:\r\n",
    "#             cipher += chr(ord:'A') + diff % 26)"
   ]
  },
  {
   "cell_type": "markdown",
   "metadata": {},
   "source": [
    "### 코인 도장 Unit 12 심사문제\r\n",
    "### 준 입력으로 문자열 여러 개와 숫자(실수) 여러 개가 두 줄로 입력됩니다. 입력된 첫 번째 줄은 키, 두 번째 줄은 값으로 하여 딕셔너리를 생성한 뒤 딕셔너리를 출력하는 프로그램을 만드세요. input().split()의 결과를 변수 한 개에 저장하면 리스트로 저장됩니다.\r\n"
   ]
  },
  {
   "cell_type": "code",
   "execution_count": 17,
   "metadata": {},
   "outputs": [
    {
     "data": {
      "text/plain": "{}"
     },
     "execution_count": 17,
     "metadata": {},
     "output_type": "execute_result"
    }
   ],
   "source": [
    "x = input().split()  # input().split()의 결과를 변수 한 개에 저장\r\n",
    "y = map(float, input().split())\r\n",
    "# 실수형 변환/map() 여러 개의 데이터를 한번에 다른 형태로 변환\r\n",
    "# map에 float를 사용해 실수로 변환\r\n",
    "dic = dict(zip(x, y)) # dic 변수에 할당된 dict객체를 dict클래스를 통해 생성\r\n",
    "dic"
   ]
  },
  {
   "cell_type": "markdown",
   "metadata": {},
   "source": [
    "##### UNIT 12 풀이\r\n",
    "input().split()을 사용한 뒤 변수 한 개에 저장하면 입력값을 리스트로 저장할 수 있습니다. 이때 문자열과 숫자가 두 줄로 입력된다고 했으므로 input().split()를 두 번 사용해야 합니다. 그리고 숫자는 실수라고 했으므로 map에 float를 사용하여 실수로 변환해줍니다.\r\n",
    "\r\n",
    "리스트 두 개가 준비되었으면 리스트를 zip에 넣은 뒤 다시 dict에 넣어서 딕셔너리로 만듭니다. 그리고 이 딕셔너리를 print로 출력하면 됩니다."
   ]
  },
  {
   "cell_type": "markdown",
   "metadata": {},
   "source": [
    "### 코인 도장 Unit 25 심사문제\r\n",
    "### 표준 입력으로 문자열 여러 개와 숫자 여러 개가 두 줄로 입력되고, 첫 번째 줄은 키, 두 번째 줄은 값으로 하여 딕셔너리를 생성합니다. 다음 코드를 완성하여 딕셔너리에서 키가 'delta'인 키-값 쌍과 값이 30인 키-값 쌍을 삭제하도록 만드세요.\r\n",
    "\r\n",
    "### ※ 딕셔너리 표현식은 딕셔너리에서 특정 값을 찾아서 삭제할 때 유용\r\n",
    "딕셔너리는 특정 키를 삭제하는 pop 메서드만 제공할 뿐 특정 값을 삭제하는 메서드 제공하지 않음"
   ]
  },
  {
   "cell_type": "code",
   "execution_count": 19,
   "metadata": {},
   "outputs": [
    {
     "data": {
      "text/plain": "{}"
     },
     "execution_count": 19,
     "metadata": {},
     "output_type": "execute_result"
    }
   ],
   "source": [
    "keys = input().split()\r\n",
    "values = map(int, input().split())\r\n",
    " \r\n",
    "x = dict(zip(keys, values))\r\n",
    "x"
   ]
  },
  {
   "cell_type": "code",
   "execution_count": 18,
   "metadata": {},
   "outputs": [
    {
     "ename": "TypeError",
     "evalue": "list indices must be integers or slices, not str",
     "output_type": "error",
     "traceback": [
      "\u001b[1;31m---------------------------------------------------------------------------\u001b[0m",
      "\u001b[1;31mTypeError\u001b[0m                                 Traceback (most recent call last)",
      "\u001b[1;32m<ipython-input-18-0f9cf7841f9a>\u001b[0m in \u001b[0;36m<module>\u001b[1;34m\u001b[0m\n\u001b[1;32m----> 1\u001b[1;33m \u001b[1;32mdel\u001b[0m \u001b[0mx\u001b[0m\u001b[1;33m[\u001b[0m\u001b[1;34m'delta'\u001b[0m\u001b[1;33m]\u001b[0m\u001b[1;33m\u001b[0m\u001b[1;33m\u001b[0m\u001b[0m\n\u001b[0m\u001b[0;32m      2\u001b[0m \u001b[0mx\u001b[0m\u001b[1;33m\u001b[0m\u001b[1;33m\u001b[0m\u001b[0m\n",
      "\u001b[1;31mTypeError\u001b[0m: list indices must be integers or slices, not str"
     ]
    }
   ],
   "source": [
    "del x['delta']\r\n",
    "x"
   ]
  },
  {
   "cell_type": "code",
   "execution_count": null,
   "metadata": {},
   "outputs": [],
   "source": [
    "# for문에서 key값으로 인해 error 발생됐을 때, 해결책\r\n",
    "# 01. for문에서 key 값이 계속 바껴 error 뜨기때문에 found_key로 key 값을 찾아라\r\n",
    "for key, value in x.items():\r\n",
    "    if value == 30:\r\n",
    "        found_key = key  \r\n",
    "del x[found_key]\r\n",
    "x\r\n",
    "# 02. for문에서 key 값이 계속 바껴 error 뜨기때문에 값이 30이 됐을 때, break 사용해 빠져나오기\r\n",
    "for key, value in x.items():\r\n",
    "    if value == 30:\r\n",
    "        break\r\n",
    "del x[found_key]\r\n",
    "x"
   ]
  },
  {
   "cell_type": "code",
   "execution_count": 29,
   "metadata": {},
   "outputs": [
    {
     "data": {
      "text/plain": "['alpha', 'bravo', 'charlie', 'delta']"
     },
     "execution_count": 29,
     "metadata": {},
     "output_type": "execute_result"
    }
   ],
   "source": [
    "keys\r\n",
    "# keys()로 된 것은 함수 호출을 의미 -> 에러가 난 이유"
   ]
  },
  {
   "cell_type": "code",
   "execution_count": 30,
   "metadata": {},
   "outputs": [
    {
     "ename": "RuntimeError",
     "evalue": "dictionary changed size during iteration",
     "output_type": "error",
     "traceback": [
      "\u001b[1;31m---------------------------------------------------------------------------\u001b[0m",
      "\u001b[1;31mRuntimeError\u001b[0m                              Traceback (most recent call last)",
      "\u001b[1;32m<ipython-input-30-6e90751ce0a7>\u001b[0m in \u001b[0;36m<module>\u001b[1;34m\u001b[0m\n\u001b[1;32m----> 1\u001b[1;33m \u001b[1;32mfor\u001b[0m \u001b[0mkey\u001b[0m\u001b[1;33m,\u001b[0m \u001b[0mvalue\u001b[0m \u001b[1;32min\u001b[0m \u001b[0mx\u001b[0m\u001b[1;33m.\u001b[0m\u001b[0mitems\u001b[0m\u001b[1;33m(\u001b[0m\u001b[1;33m)\u001b[0m\u001b[1;33m:\u001b[0m  \u001b[1;31m# 딕셔너리의 키, 값 얻기 - items()\u001b[0m\u001b[1;33m\u001b[0m\u001b[1;33m\u001b[0m\u001b[0m\n\u001b[0m\u001b[0;32m      2\u001b[0m     \u001b[1;32mif\u001b[0m \u001b[0mkey\u001b[0m \u001b[1;33m==\u001b[0m \u001b[1;34m'delta'\u001b[0m \u001b[1;32mor\u001b[0m \u001b[0mvalue\u001b[0m \u001b[1;33m==\u001b[0m \u001b[1;36m30\u001b[0m\u001b[1;33m:\u001b[0m    \u001b[1;31m# 키값이 delta과 값이 30이면\u001b[0m\u001b[1;33m\u001b[0m\u001b[1;33m\u001b[0m\u001b[0m\n\u001b[0;32m      3\u001b[0m         \u001b[1;32mdel\u001b[0m \u001b[0mx\u001b[0m\u001b[1;33m[\u001b[0m\u001b[0mkey\u001b[0m\u001b[1;33m]\u001b[0m     \u001b[1;31m# 키-값 쌍 삭제\u001b[0m\u001b[1;33m\u001b[0m\u001b[1;33m\u001b[0m\u001b[0m\n\u001b[0;32m      4\u001b[0m \u001b[1;33m\u001b[0m\u001b[0m\n\u001b[0;32m      5\u001b[0m \u001b[0mprint\u001b[0m\u001b[1;33m(\u001b[0m\u001b[0mx\u001b[0m\u001b[1;33m)\u001b[0m\u001b[1;33m\u001b[0m\u001b[1;33m\u001b[0m\u001b[0m\n",
      "\u001b[1;31mRuntimeError\u001b[0m: dictionary changed size during iteration"
     ]
    }
   ],
   "source": [
    "for key, value in x.items():  # 딕셔너리의 키, 값 얻기 - items()\r\n",
    "    if key == 'delta' or value == 30:    # 키값이 delta과 값이 30이면\r\n",
    "        del x[key]     # 키-값 쌍 삭제\r\n",
    " \r\n",
    "print(x)"
   ]
  },
  {
   "cell_type": "code",
   "execution_count": 27,
   "metadata": {},
   "outputs": [
    {
     "name": "stdout",
     "output_type": "stream",
     "text": [
      "{'alpha': 10, 'bravo': 20}\n"
     ]
    }
   ],
   "source": [
    "keys = input().split()\r\n",
    "values = map(int, input().split())\r\n",
    " \r\n",
    "x = dict(zip(keys, values))\r\n",
    "\r\n",
    "x.pop('delta')\r\n",
    "\r\n",
    "x = { key : value for key, value in x.items() if value != 30}\r\n",
    "\r\n",
    "print(x)"
   ]
  },
  {
   "cell_type": "markdown",
   "metadata": {},
   "source": [
    "##### UNIT 25 풀이\r\n",
    "##### 먼저 키가 'delta'인 키-값 쌍을 삭제하라고 했으므로 del x['delta'] 또는 x.pop('delta')로 키-값 쌍을 삭제합니다. 그리고 값이 30인 키-값 쌍을 삭제할 때는 딕셔너리 표현식을 사용하여 값이 30인 키-값 쌍만 제외한 뒤 딕셔너리를 다시 만들면 됩니다."
   ]
  },
  {
   "cell_type": "markdown",
   "metadata": {},
   "source": [
    "### 코인 도장 UNIT 24.5 심사문제\r\n",
    "### 표준 입력으로 문자열이 입력됩니다. 입력된 문자열에서 'the'의 개수를 출력하는 프로그램을 만드세요(input에서 안내 문자열은 출력하지 않아야 합니다). 단, 모든 문자가 소문자인 'the'만 찾으면 되며 'them', 'there', 'their' 등은 포함하지 않아야 합니다."
   ]
  },
  {
   "cell_type": "code",
   "execution_count": 31,
   "metadata": {},
   "outputs": [
    {
     "name": "stdout",
     "output_type": "stream",
     "text": [
      "4\n"
     ]
    }
   ],
   "source": [
    "para = input().split()\r\n",
    "\r\n",
    "count = 0  # 'the'가 총 몇 개 있는지 개수를 출력해야 하기 때문에 for문 전 count=0 할당\r\n",
    "for i in para: # for 반복문 사용 -> para의 리스트 요소값 검증\r\n",
    "    if i =='the':\r\n",
    "        count += 1\r\n",
    "print(count)"
   ]
  },
  {
   "cell_type": "markdown",
   "metadata": {},
   "source": [
    "##### 위 식의 경우 결과값이 4로 나옴.\r\n",
    "##### 그 이유는 the. 와 the, 가 제외되었기 때문에 -> 문자열 method인 strip() 이용한 조건 사용해야"
   ]
  },
  {
   "cell_type": "code",
   "execution_count": 32,
   "metadata": {},
   "outputs": [
    {
     "name": "stdout",
     "output_type": "stream",
     "text": [
      "6\n"
     ]
    }
   ],
   "source": [
    "para = input().split()\r\n",
    "\r\n",
    "count = 0 \r\n",
    "for i in para:\r\n",
    "    if (i.strip(',.') =='the'):\r\n",
    "        count += 1\r\n",
    "print(count)"
   ]
  },
  {
   "cell_type": "markdown",
   "metadata": {},
   "source": [
    "##### UNIT 24.5 풀이\r\n",
    "##### 먼저 문자열이 입력되므로 input을 사용하여 문자열을 변수에 저장해줍니다(변수는 이하 paragraph).\r\n",
    "\r\n",
    "paragraph에서 paragraph.count('the')처럼 count 메서드로 'the'의 개수를 구하면 'whether', 'themselves'의 개수까지 구하게 되므로 잘못된 결과가 나옵니다. 따라서 'the'의 개수만 구하려면 먼저 paragraph에 split을 사용하여 공백을 기준으로 분리한 뒤 리스트로 만들어줍니다(리스트는 이하 words).\r\n",
    "\r\n",
    "그다음에 for 반복문으로 리스트 words를 반복하면서 문자열이 'the'인지 판단합니다. 이때 단순히 == 연산자로 요소 i가 'the'와 같은지만 판단하면 'the,' 또는 'the.'처럼 ,(콤마)나 .(점)이 붙어있는 문자열은 'the'와 다르다고 나옵니다. 따라서 strip에 ',.'을 지정해서 콤마와 점을 삭제한 뒤 'the'와 비교해야 합니다. 비교한 결과가 참이면 변수 count에 1을 더해주면 됩니다.\r\n",
    "\r\n",
    "마지막으로 print를 사용하여 count의 값을 출력해줍니다."
   ]
  },
  {
   "cell_type": "code",
   "execution_count": 11,
   "metadata": {},
   "outputs": [
    {
     "name": "stdout",
     "output_type": "stream",
     "text": [
      "\n",
      "the grown-ups' response, this time, was to advise me to lay aside my drawings of boa constrictors, whether from the inside or the outside, and devote myself instead to geography, history, arithmetic, and grammar. That is why, at the, age of six, I gave up what might have been a magnificent career as a painter. I had been disheartened by the failure of my Drawing Number One and my Drawing Number Two. Grown-ups never understand anything by themselves, and it is tiresome for children to be always and forever explaining things to the.\n",
      "\n"
     ]
    }
   ],
   "source": [
    "text = \"\"\"\r\n",
    "the grown-ups' response, this time, was to advise me to lay aside my drawings of boa constrictors, whether from the inside or the outside, and devote myself instead to geography, history, arithmetic, and grammar. That is why, at the, age of six, I gave up what might have been a magnificent career as a painter. I had been disheartened by the failure of my Drawing Number One and my Drawing Number Two. Grown-ups never understand anything by themselves, and it is tiresome for children to be always and forever explaining things to the.\r\n",
    "\"\"\"\r\n",
    "print(text)\r\n"
   ]
  },
  {
   "cell_type": "code",
   "execution_count": 9,
   "metadata": {},
   "outputs": [
    {
     "data": {
      "text/plain": "'thegrownupsresponsethistimewastoadvisemetolayasidemydrawingsofboaconstrictorswhetherfromtheinsideortheoutsideanddevotemyselfinsteadtogeographyhistoryarithmeticandgrammarThatiswhyattheageofsixIgaveupwhatmighthavebeenamagnificentcareerasapainterIhadbeendisheartenedbythefailureofmyDrawingNumberOneandmyDrawingNumberTwoGrownupsneverunderstandanythingbythemselvesanditistiresomeforchildrentobealwaysandforeverexplainingthingstothe'"
     },
     "execution_count": 9,
     "metadata": {},
     "output_type": "execute_result"
    }
   ],
   "source": [
    "text = re.sub('[^A-Za-z ]', '', text)  # [^A-Za-z] : 알파벳이 아닌 문자는 사라져라\r\n",
    "text"
   ]
  },
  {
   "cell_type": "code",
   "execution_count": 12,
   "metadata": {},
   "outputs": [
    {
     "data": {
      "text/plain": "'thegrown-upsresponsethistimewastoadvisemetolayasidemydrawingsofboaconstrictorswhetherfromtheinsideortheoutsideanddevotemyselfinsteadtogeographyhistoryarithmeticandgrammarThatiswhyattheageofsixIgaveupwhatmighthavebeenamagnificentcareerasapainterIhadbeendisheartenedbythefailureofmyDrawingNumberOneandmyDrawingNumberTwoGrown-upsneverunderstandanythingbythemselvesanditistiresomeforchildrentobealwaysandforeverexplainingthingstothe'"
     },
     "execution_count": 12,
     "metadata": {},
     "output_type": "execute_result"
    }
   ],
   "source": [
    "import re  # 정규표현식을 다루는 모듈\r\n",
    "text = re.sub('[\\'., \\n]', '', text)  # text에서 [\\'., \\n] 패턴을 찾아 ''로 대체\r\n",
    "#[]안에 들어오는 정규 표현식 찾기\r\n",
    "text"
   ]
  },
  {
   "cell_type": "code",
   "execution_count": 15,
   "metadata": {},
   "outputs": [
    {
     "data": {
      "text/plain": "'!\"#$%&\\'()*+,-./:;<=>?@[\\\\]^_`{|}~'"
     },
     "execution_count": 15,
     "metadata": {},
     "output_type": "execute_result"
    }
   ],
   "source": [
    "from string import punctuation\r\n",
    "punctuation"
   ]
  },
  {
   "cell_type": "code",
   "execution_count": 16,
   "metadata": {},
   "outputs": [
    {
     "data": {
      "text/plain": "0"
     },
     "execution_count": 16,
     "metadata": {},
     "output_type": "execute_result"
    }
   ],
   "source": [
    "text_list = text.lower().strip().split()  # split()은 공백을 기준으로 문자열을 분리하여 리스트 만듦\r\n",
    "\r\n",
    "count = 0 \r\n",
    "for i in text_list:\r\n",
    "    if i == 'the':\r\n",
    "        count += 1\r\n",
    "count"
   ]
  },
  {
   "cell_type": "markdown",
   "metadata": {},
   "source": [
    "### 코인 도장 Unit 24.6 심사문제\r\n",
    "### 표준 입력으로 물품 가격 여러 개가 문자열 한 줄로 입력되고, 각 가격은 ;(세미콜론)으로 구분되어 있습니다. 입력된 가격을 높은 가격순으로 출력하는 프로그램을 만드세요(input에서 안내 문자열은 출력하지 않아야 합니다). 이때 가격은 길이를 9로 만든 뒤 오른쪽으로 정렬하고 천단위로 ,(콤마)를 넣으세요."
   ]
  },
  {
   "cell_type": "code",
   "execution_count": null,
   "metadata": {},
   "outputs": [],
   "source": [
    "price = list(map(int, input(),split(';')))\r\n",
    "price.sort(reverse=True)  # 내림차순 정렬\r\n",
    "for i in price:\r\n",
    "    print('{o:>9}'.format(i))\r\n",
    "b = f'{10000:,}'\r\n",
    "b"
   ]
  },
  {
   "cell_type": "markdown",
   "metadata": {},
   "source": [
    "##### UNIT 24.6 풀이\r\n",
    "##### 먼저 가격이 한 줄로 입력되고 ;(세미콜론)으로 구분된다고 했으므로 input().split(';')으로 문자열을 입력받습니다. 그리고 가격은 숫자이므로 map에 int를 사용하여 정수로 변환해줍니다.\r\n",
    "\r\n",
    "특히 map 객체는 sort 메서드가 없어서 정렬을 할 수가 없습니다. 따라서 map 객체를 list에 넣어서 리스트로 변환한 뒤 변수에 저장해줍니다(변수는 이하 prices).\r\n",
    "\r\n",
    "이제 리스트 prices를 높은 가격순으로 정렬해야 하는데, 이때는 sort(reverse=True)을 호출하여 내림차순으로 정렬합니다.\r\n",
    "\r\n",
    "그다음에 for 반복문을 사용하여 리스트 prices에 들어있는 가격을 한 줄씩 출력해야 합니다. 가격은 길이를 9로 만든 뒤 오른쪽으로 정렬하고 천단위로 ,(콤마)를 넣으라고 했으므로 '{0:>9,}'와 같은 포매팅을 사용하여 출력해주면 됩니다.\r\n",
    "\r\n",
    "또는, '%9s' % format(price, ',')와 같이 서식 지정자와 format 내장 함수를 사용해도 됩니다."
   ]
  },
  {
   "cell_type": "code",
   "execution_count": null,
   "metadata": {},
   "outputs": [],
   "source": [
    "input_str = '51900;83000;158000;367500;250000;59200;128500;1304000'\r\n",
    "price_list = list "
   ]
  }
 ],
 "metadata": {
  "kernelspec": {
   "display_name": "Python 3.8.5 64-bit ('base': conda)",
   "name": "python385jvsc74a57bd08c1eae21719a0790335dcb83aad72b63b602cfe5cdb2bda0f60bc11d4f154e4b"
  },
  "language_info": {
   "codemirror_mode": {
    "name": "ipython",
    "version": 3
   },
   "file_extension": ".py",
   "mimetype": "text/x-python",
   "name": "python",
   "nbconvert_exporter": "python",
   "pygments_lexer": "ipython3",
   "version": "3.8.5"
  },
  "orig_nbformat": 2
 },
 "nbformat": 4,
 "nbformat_minor": 2
}