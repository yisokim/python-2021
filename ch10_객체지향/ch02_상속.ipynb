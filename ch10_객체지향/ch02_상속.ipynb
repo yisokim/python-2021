{
 "cells": [
  {
   "cell_type": "markdown",
   "metadata": {},
   "source": [
    "## 4. 상속"
   ]
  },
  {
   "cell_type": "code",
   "execution_count": 2,
   "metadata": {},
   "outputs": [],
   "source": [
    "class Person:\r\n",
    "    def greeting(self):\r\n",
    "        print('안녕하세요?')\r\n",
    "\r\n",
    "class Student(Person):\r\n",
    "    def study(self):\r\n",
    "        print('공부하기')"
   ]
  },
  {
   "cell_type": "code",
   "execution_count": 3,
   "metadata": {},
   "outputs": [
    {
     "name": "stdout",
     "output_type": "stream",
     "text": [
      "안녕하세요?\n",
      "공부하기\n"
     ]
    }
   ],
   "source": [
    "james = Student()\r\n",
    "james.greeting()\r\n",
    "james.study()"
   ]
  },
  {
   "cell_type": "markdown",
   "metadata": {},
   "source": [
    "## - 기반 클래스의 속성값 사용하기"
   ]
  },
  {
   "cell_type": "code",
   "execution_count": 4,
   "metadata": {},
   "outputs": [],
   "source": [
    "class Person2:\r\n",
    "    def __init__(self):\r\n",
    "        print('Person2__init__method')\r\n",
    "        self.hello = '안녕?'\r\n",
    "\r\n",
    "class Student2(Person2):\r\n",
    "    def __init__(self):\r\n",
    "        print('Student2__init__method')\r\n",
    "        self.school = '파이썬'    "
   ]
  },
  {
   "cell_type": "code",
   "execution_count": 5,
   "metadata": {},
   "outputs": [
    {
     "name": "stdout",
     "output_type": "stream",
     "text": [
      "Student2__init__method\n"
     ]
    },
    {
     "data": {
      "text/plain": "'파이썬'"
     },
     "execution_count": 5,
     "metadata": {},
     "output_type": "execute_result"
    }
   ],
   "source": [
    "maria = Student2()\r\n",
    "maria.school"
   ]
  },
  {
   "cell_type": "code",
   "execution_count": 6,
   "metadata": {},
   "outputs": [
    {
     "ename": "AttributeError",
     "evalue": "'Student2' object has no attribute 'hello'",
     "output_type": "error",
     "traceback": [
      "\u001b[1;31m---------------------------------------------------------------------------\u001b[0m",
      "\u001b[1;31mAttributeError\u001b[0m                            Traceback (most recent call last)",
      "\u001b[1;32m<ipython-input-6-8d4be38e5301>\u001b[0m in \u001b[0;36m<module>\u001b[1;34m\u001b[0m\n\u001b[1;32m----> 1\u001b[1;33m \u001b[0mmaria\u001b[0m\u001b[1;33m.\u001b[0m\u001b[0mhello\u001b[0m\u001b[1;33m\u001b[0m\u001b[1;33m\u001b[0m\u001b[0m\n\u001b[0m",
      "\u001b[1;31mAttributeError\u001b[0m: 'Student2' object has no attribute 'hello'"
     ]
    }
   ],
   "source": [
    "maria.hello"
   ]
  },
  {
   "cell_type": "code",
   "execution_count": 7,
   "metadata": {},
   "outputs": [],
   "source": [
    "class Person3:\r\n",
    "    def __init__(self):\r\n",
    "        print('Person3__init__method')\r\n",
    "        self.hello = '안녕?'\r\n",
    "\r\n",
    "class Student3(Person3):\r\n",
    "    def __init__(self):\r\n",
    "        super().__init__()  #super()를 사용해서 기반 클래스의 __init__ 메서드를 호출\r\n",
    "        print('Student2__init__method')\r\n",
    "        self.school = '파이썬'    "
   ]
  },
  {
   "cell_type": "code",
   "execution_count": 8,
   "metadata": {},
   "outputs": [
    {
     "name": "stdout",
     "output_type": "stream",
     "text": [
      "Person3__init__method\n",
      "Student2__init__method\n"
     ]
    },
    {
     "data": {
      "text/plain": "'안녕?'"
     },
     "execution_count": 8,
     "metadata": {},
     "output_type": "execute_result"
    }
   ],
   "source": [
    "james = Student3()\r\n",
    "james.hello"
   ]
  },
  {
   "cell_type": "code",
   "execution_count": 9,
   "metadata": {},
   "outputs": [],
   "source": [
    "class Student4(Person3):\r\n",
    "    def greeting(self):\r\n",
    "        print(self.hello)\r\n",
    "# supere()을 호출하지 않았음에도 나옴"
   ]
  },
  {
   "cell_type": "code",
   "execution_count": 10,
   "metadata": {},
   "outputs": [
    {
     "name": "stdout",
     "output_type": "stream",
     "text": [
      "Person3__init__method\n",
      "안녕?\n"
     ]
    }
   ],
   "source": [
    "maria = Student4()\r\n",
    "maria.greeting()"
   ]
  },
  {
   "cell_type": "markdown",
   "metadata": {},
   "source": [
    "## 5. Method Overriding"
   ]
  },
  {
   "cell_type": "code",
   "execution_count": 11,
   "metadata": {},
   "outputs": [],
   "source": [
    "class Person5:\r\n",
    "    def greeting(self):\r\n",
    "        print('안녕')\r\n",
    "\r\n",
    "class Student5(Person5):\r\n",
    "    def greeting(self):\r\n",
    "        print('안녕? 난 학생')"
   ]
  },
  {
   "cell_type": "code",
   "execution_count": 12,
   "metadata": {},
   "outputs": [
    {
     "name": "stdout",
     "output_type": "stream",
     "text": [
      "안녕? 난 학생\n"
     ]
    }
   ],
   "source": [
    "james = Student5()\r\n",
    "james.greeting()"
   ]
  },
  {
   "cell_type": "code",
   "execution_count": 13,
   "metadata": {},
   "outputs": [],
   "source": [
    "class Student6(Person5):\r\n",
    "    def greeting(self):\r\n",
    "        super().greeting()\r\n",
    "        print('난 학생')"
   ]
  },
  {
   "cell_type": "code",
   "execution_count": 15,
   "metadata": {},
   "outputs": [
    {
     "name": "stdout",
     "output_type": "stream",
     "text": [
      "안녕\n",
      "난 학생\n"
     ]
    }
   ],
   "source": [
    "maria = Student6()\r\n",
    "maria.greeting()"
   ]
  },
  {
   "cell_type": "markdown",
   "metadata": {},
   "source": [
    "# 씨저 암호를 사용해서 class 작성"
   ]
  },
  {
   "cell_type": "code",
   "execution_count": 21,
   "metadata": {},
   "outputs": [],
   "source": [
    "class Caesar:\r\n",
    "    def encode(self, plain, n):\r\n",
    "        cipher = ''\r\n",
    "        for c in plain:\r\n",
    "            diff = ord(c) - ord('A') + n\r\n",
    "            if diff >= 26:\r\n",
    "                cipher += chr(ord('A') + diff % 26)\r\n",
    "            else:\r\n",
    "                cipher += chr(ord(c) + n)\r\n",
    "        return cipher\r\n",
    "    \r\n",
    "    def decode(self, cipher, n):\r\n",
    "        plain = ''\r\n",
    "        for c in cipher:\r\n",
    "            diff = ord(c) - ord('A') - n\r\n",
    "            if diff < 0:\r\n",
    "                plain += chr(ord('Z') + diff + 1)\r\n",
    "            else:\r\n",
    "                plain += chr(ord(c) - n)\r\n",
    "        return plain"
   ]
  },
  {
   "cell_type": "code",
   "execution_count": 22,
   "metadata": {},
   "outputs": [
    {
     "data": {
      "text/plain": "'DEFABC'"
     },
     "execution_count": 22,
     "metadata": {},
     "output_type": "execute_result"
    }
   ],
   "source": [
    "caesar = Caesar()\r\n",
    "caesar.encode('ABCXYZ', 3)"
   ]
  },
  {
   "cell_type": "code",
   "execution_count": 23,
   "metadata": {},
   "outputs": [
    {
     "data": {
      "text/plain": "'ABCXYZ'"
     },
     "execution_count": 23,
     "metadata": {},
     "output_type": "execute_result"
    }
   ],
   "source": [
    "caesar.decode('DEFABC', 3)"
   ]
  }
 ],
 "metadata": {
  "kernelspec": {
   "display_name": "Python 3.8.5 64-bit ('base': conda)",
   "name": "python385jvsc74a57bd08c1eae21719a0790335dcb83aad72b63b602cfe5cdb2bda0f60bc11d4f154e4b"
  },
  "language_info": {
   "codemirror_mode": {
    "name": "ipython",
    "version": 3
   },
   "file_extension": ".py",
   "mimetype": "text/x-python",
   "name": "python",
   "nbconvert_exporter": "python",
   "pygments_lexer": "ipython3",
   "version": "3.8.5"
  },
  "orig_nbformat": 2
 },
 "nbformat": 4,
 "nbformat_minor": 2
}