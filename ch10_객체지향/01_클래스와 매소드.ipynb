{
 "cells": [
  {
   "cell_type": "markdown",
   "metadata": {},
   "source": [
    "# 10장. 객체 지향(Object Oriented Programming)"
   ]
  },
  {
   "cell_type": "markdown",
   "metadata": {},
   "source": [
    "## 1. 클래스와 매소드"
   ]
  },
  {
   "cell_type": "code",
   "execution_count": 1,
   "metadata": {},
   "outputs": [],
   "source": [
    "class Person:  # 클래스 명칭은 대문자로\r\n",
    "    def greeting(self):\r\n",
    "        print('Hello')"
   ]
  },
  {
   "cell_type": "code",
   "execution_count": 2,
   "metadata": {},
   "outputs": [],
   "source": [
    "# instance 만들기 (생성자, constructor)\r\n",
    "james = Person()  # 인스턴스 = 클래스"
   ]
  },
  {
   "cell_type": "code",
   "execution_count": 3,
   "metadata": {},
   "outputs": [
    {
     "name": "stdout",
     "output_type": "stream",
     "text": [
      "Hello\n"
     ]
    }
   ],
   "source": [
    "# method 호출\r\n",
    "james.greeting()"
   ]
  },
  {
   "cell_type": "markdown",
   "metadata": {},
   "source": [
    "## 2. 속성"
   ]
  },
  {
   "cell_type": "code",
   "execution_count": 13,
   "metadata": {},
   "outputs": [],
   "source": [
    "class Person:\r\n",
    "    def __init__(self):\r\n",
    "        self.hello = '안녕하세요'\r\n",
    "    def greeting(self):\r\n",
    "        print(self.hello)"
   ]
  },
  {
   "cell_type": "code",
   "execution_count": 20,
   "metadata": {},
   "outputs": [
    {
     "name": "stdout",
     "output_type": "stream",
     "text": [
      "안녕하세요\n"
     ]
    }
   ],
   "source": [
    "james = Person()\r\n",
    "james.greeting()"
   ]
  },
  {
   "cell_type": "code",
   "execution_count": 15,
   "metadata": {},
   "outputs": [
    {
     "data": {
      "text/plain": "'안녕하세요'"
     },
     "execution_count": 15,
     "metadata": {},
     "output_type": "execute_result"
    }
   ],
   "source": [
    "james.hello"
   ]
  },
  {
   "cell_type": "code",
   "execution_count": 16,
   "metadata": {},
   "outputs": [
    {
     "name": "stdout",
     "output_type": "stream",
     "text": [
      "반갑습니다\n"
     ]
    }
   ],
   "source": [
    "james.hello = '반갑습니다'\r\n",
    "james.greeting()"
   ]
  },
  {
   "cell_type": "code",
   "execution_count": 17,
   "metadata": {},
   "outputs": [
    {
     "name": "stdout",
     "output_type": "stream",
     "text": [
      "안녕하세요\n"
     ]
    }
   ],
   "source": [
    "maria = Person()\r\n",
    "maria.greeting()"
   ]
  },
  {
   "cell_type": "markdown",
   "metadata": {},
   "source": [
    "## - 인스턴스르 만들면서 속성값 전달 받기"
   ]
  },
  {
   "cell_type": "code",
   "execution_count": 25,
   "metadata": {},
   "outputs": [],
   "source": [
    "class Person3:  # __init__ 메서드에서 self 다음에 값을 받을 매개변수를 지정\r\n",
    "                # 매개변수를 self.속성에 넣어줍니다.\r\n",
    "                # slef: 인스턴스 자기 자신\r\n",
    "    def __init__(self, name, age, address):\r\n",
    "        self.hello = '안녕하세요?'\r\n",
    "        self.name = name\r\n",
    "        self.age = age\r\n",
    "        self.address = address\r\n",
    "\r\n",
    "    def greeting(self):\r\n",
    "        print(f'{self.hello} 저는 {self.name} 입니다.')"
   ]
  },
  {
   "cell_type": "code",
   "execution_count": 26,
   "metadata": {},
   "outputs": [
    {
     "name": "stdout",
     "output_type": "stream",
     "text": [
      "안녕하세요? 저는 마리아 입니다.\n"
     ]
    }
   ],
   "source": [
    "maria = Person3('마리아', 24, '서울시 중구')\r\n",
    "maria.greeting()"
   ]
  },
  {
   "cell_type": "code",
   "execution_count": 30,
   "metadata": {},
   "outputs": [],
   "source": [
    "class Person4:\r\n",
    "    def __init__(self, name='마리아', age=24, address='서울시'):\r\n",
    "        self.hello = '안녕하세요?'\r\n",
    "        self.name = name\r\n",
    "        self.age = age\r\n",
    "        self.address = address\r\n",
    "\r\n",
    "    def greeting(self):\r\n",
    "        print(f'{self.hello} 저는 {self.name} 입니다.')"
   ]
  },
  {
   "cell_type": "code",
   "execution_count": 33,
   "metadata": {},
   "outputs": [
    {
     "name": "stdout",
     "output_type": "stream",
     "text": [
      "안녕하세요? 저는 마리아 입니다.\n"
     ]
    }
   ],
   "source": [
    "maria = Person4()\r\n",
    "maria.greeting()"
   ]
  },
  {
   "cell_type": "code",
   "execution_count": 32,
   "metadata": {},
   "outputs": [
    {
     "name": "stdout",
     "output_type": "stream",
     "text": [
      "안녕하세요? 저는 제임스 입니다.\n"
     ]
    }
   ],
   "source": [
    "james = Person4(age=27, name='제임스')\r\n",
    "james.greeting()"
   ]
  },
  {
   "cell_type": "code",
   "execution_count": 35,
   "metadata": {},
   "outputs": [
    {
     "data": {
      "text/plain": "'서울시'"
     },
     "execution_count": 35,
     "metadata": {},
     "output_type": "execute_result"
    }
   ],
   "source": [
    "james.address"
   ]
  },
  {
   "cell_type": "markdown",
   "metadata": {},
   "source": [
    "## 3. 비공개 속성\r\n",
    "## 상속(imheritance) / 캡슐화(Encapsulation) / 다형성(Polymorphism.overriding)"
   ]
  },
  {
   "cell_type": "code",
   "execution_count": 38,
   "metadata": {},
   "outputs": [],
   "source": [
    "class Person5:\r\n",
    "    def __init__(self, name, age, address, wallet):\r\n",
    "        self.name = name\r\n",
    "        self.age = age\r\n",
    "        self.address = address\r\n",
    "        self.__wallet = wallet"
   ]
  },
  {
   "cell_type": "code",
   "execution_count": 39,
   "metadata": {},
   "outputs": [
    {
     "data": {
      "text/plain": "'마리아'"
     },
     "execution_count": 39,
     "metadata": {},
     "output_type": "execute_result"
    }
   ],
   "source": [
    "maria = Person5('마리아', 24, '서울시 중구', 10000)\r\n",
    "maria.name"
   ]
  },
  {
   "cell_type": "code",
   "execution_count": 40,
   "metadata": {},
   "outputs": [
    {
     "ename": "AttributeError",
     "evalue": "'Person5' object has no attribute '__wallet'",
     "output_type": "error",
     "traceback": [
      "\u001b[1;31m---------------------------------------------------------------------------\u001b[0m",
      "\u001b[1;31mAttributeError\u001b[0m                            Traceback (most recent call last)",
      "\u001b[1;32m<ipython-input-40-c310d099919b>\u001b[0m in \u001b[0;36m<module>\u001b[1;34m\u001b[0m\n\u001b[1;32m----> 1\u001b[1;33m \u001b[0mmaria\u001b[0m\u001b[1;33m.\u001b[0m\u001b[0m__wallet\u001b[0m\u001b[1;33m\u001b[0m\u001b[1;33m\u001b[0m\u001b[0m\n\u001b[0m",
      "\u001b[1;31mAttributeError\u001b[0m: 'Person5' object has no attribute '__wallet'"
     ]
    }
   ],
   "source": [
    "maria.__wallet"
   ]
  },
  {
   "cell_type": "code",
   "execution_count": 53,
   "metadata": {},
   "outputs": [],
   "source": [
    "class Person5:\r\n",
    "    def __init__(self, name, age, address, wallet):\r\n",
    "        self.name = name           # public 속성\r\n",
    "        self.age = age\r\n",
    "        self.address = address\r\n",
    "        self.__wallet = wallet     # private 속성\r\n",
    "# wallet이란 속성값은 direct로 바꾸지 못하고 함수로 인해 바꿀 수 있음 (비공개)\r\n",
    "\r\n",
    "    def get_wallet(self):\r\n",
    "        return self.__wallet\r\n",
    "\r\n",
    "    def set_wallet(self, amount):\r\n",
    "        self.__wallet = amount\r\n",
    "\r\n",
    "    def pay(self, amount):\r\n",
    "        if amount > self.__wallet:\r\n",
    "# wallet을 direct로 access하지 않고 amount를 통해 if문 구성\r\n",
    "            print('지갑에 돈이 부족해서 지불이 불가능합니다.')\r\n",
    "        else:\r\n",
    "            self.__wallet -= amount\r\n",
    "            print(f'지불하고 남은 돈은 {self.__wallet}입니다.')"
   ]
  },
  {
   "cell_type": "code",
   "execution_count": 54,
   "metadata": {},
   "outputs": [
    {
     "name": "stdout",
     "output_type": "stream",
     "text": [
      "지갑에 돈이 부족해서 지불이 불가능합니다.\n"
     ]
    }
   ],
   "source": [
    "maria = Person5('마리아', 24, '서울시 중구', 10000)\r\n",
    "maria.pay(15000)"
   ]
  },
  {
   "cell_type": "code",
   "execution_count": 56,
   "metadata": {},
   "outputs": [
    {
     "name": "stdout",
     "output_type": "stream",
     "text": [
      "지불하고 남은 돈은 95000입니다.\n"
     ]
    }
   ],
   "source": [
    "maria.set_wallet(100000)\r\n",
    "maria.pay(5000)"
   ]
  }
 ],
 "metadata": {
  "kernelspec": {
   "display_name": "Python 3.8.5 64-bit ('base': conda)",
   "name": "python385jvsc74a57bd08c1eae21719a0790335dcb83aad72b63b602cfe5cdb2bda0f60bc11d4f154e4b"
  },
  "language_info": {
   "codemirror_mode": {
    "name": "ipython",
    "version": 3
   },
   "file_extension": ".py",
   "mimetype": "text/x-python",
   "name": "python",
   "nbconvert_exporter": "python",
   "pygments_lexer": "ipython3",
   "version": "3.8.5"
  },
  "orig_nbformat": 2
 },
 "nbformat": 4,
 "nbformat_minor": 2
}