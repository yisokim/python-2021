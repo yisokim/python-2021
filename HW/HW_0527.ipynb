{
 "cells": [
  {
   "cell_type": "markdown",
   "metadata": {},
   "source": [
    "# UNIT 13\r\n",
    "## 표준 입력으로 가격(정수)과 쿠폰 이름이 각 줄에 입력됩니다. Cash3000 쿠폰은 3,000원, Cash5000 쿠폰은 5,000원을 할인합니다. 쿠폰에 따라 할인된 가격을 출력하는 프로그램을 만드세요(input에서 안내 문자열은 출력하지 않아야 합니다)."
   ]
  },
  {
   "cell_type": "code",
   "execution_count": 1,
   "metadata": {},
   "outputs": [
    {
     "name": "stdout",
     "output_type": "stream",
     "text": [
      "24000\n"
     ]
    }
   ],
   "source": [
    "x = int(input())\r\n",
    "y = input()\r\n",
    "\r\n",
    "if y == 'cash3000':\r\n",
    "    x -= 3000\r\n",
    "\r\n",
    "if y == 'cash5000':\r\n",
    "    x -= 5000\r\n",
    "\r\n",
    "print(x)"
   ]
  },
  {
   "cell_type": "markdown",
   "metadata": {},
   "source": [
    "### UNIT 13 풀이\r\n",
    "### 먼저 정수가 입력된다고 했으므로 int(input())과 같이 입력 값을 정수로 변환한 뒤 변수에 저장합니다(이하 변수는 price). 그리고 다음 줄에 쿠폰 이름이 입력되므로 input()으로 문자열을 변수에 저장합니다(이하 변수는 coupon).\r\n",
    "\r\n",
    "쿠폰 이름이 Cash3000일 때는 if coupon == 'Cash3000':과 같이 if 조건문을 만든 뒤 price -= 3000과 같이 price에서 3000을 뺀 뒤 결과를 다시 price에 저장해줍니다.\r\n",
    "\r\n",
    "그리고 쿠폰 이름이 Cash5000일 때도 처리해야 하므로 if coupon == 'Cash5000':과 같이 if 조건문을 하나 더 만든 뒤 price -= 5000과 같이 price에서 5000을 뺀 뒤 결과를 다시 price에 저장해줍니다.\r\n",
    "\r\n",
    "마지막으로 price를 print로 출력해주면 됩니다."
   ]
  },
  {
   "cell_type": "code",
   "execution_count": 4,
   "metadata": {},
   "outputs": [],
   "source": [
    "# 객체지향으로 만들기\r\n",
    "class Tmoney():\r\n",
    "    def __init__(self):\r\n",
    "        print('Tmoney 카드를 개설하였습니다. 최초 잔액은 0원 입니다.')\r\n",
    "        self.__balance = 0\r\n",
    "    def charge(self, amount):\r\n",
    "        self.__balance += amount\r\n",
    "    \r\n",
    "    def get_balance(self):\r\n",
    "        return self.__balance\r\n",
    "\r\n",
    "    def pay (self, amount):\r\n",
    "        if self.__balance >= amount:\r\n",
    "            self.__balance -= amount\r\n",
    "            print(f'잔액은 {self.__balance:,}원 입니다.')\r\n",
    "        else:\r\n",
    "            print('잔액이 부족합니다.')"
   ]
  },
  {
   "cell_type": "code",
   "execution_count": 5,
   "metadata": {},
   "outputs": [
    {
     "ename": "NameError",
     "evalue": "name 'Tmoney2' is not defined",
     "output_type": "error",
     "traceback": [
      "\u001b[1;31m---------------------------------------------------------------------------\u001b[0m",
      "\u001b[1;31mNameError\u001b[0m                                 Traceback (most recent call last)",
      "\u001b[1;32m<ipython-input-5-861361c28f63>\u001b[0m in \u001b[0;36m<module>\u001b[1;34m\u001b[0m\n\u001b[1;32m----> 1\u001b[1;33m \u001b[0mtmon\u001b[0m \u001b[1;33m=\u001b[0m \u001b[0mTmoney2\u001b[0m\u001b[1;33m(\u001b[0m\u001b[1;36m10000\u001b[0m\u001b[1;33m)\u001b[0m\u001b[1;33m\u001b[0m\u001b[1;33m\u001b[0m\u001b[0m\n\u001b[0m",
      "\u001b[1;31mNameError\u001b[0m: name 'Tmoney2' is not defined"
     ]
    }
   ],
   "source": [
    "tmon = Tmoney2(10000)\r\n",
    "tmon.charge(10000)\r\n",
    "while True:\r\n",
    "    tmon.pay(1350)\r\n",
    "    if tmon.get_balance()"
   ]
  },
  {
   "cell_type": "markdown",
   "metadata": {},
   "source": [
    "# UNIT 14\r\n",
    "## 표준 입력으로 국어, 영어, 수학, 과학 점수가 입력됩니다. 여기서 네 과목의 평균 점수가 80점 이상일 때 합격이라고 정했습니다. 평균 점수에 따라 '합격', '불합격'을 출력하는 프로그램을 만드세요(input에서 안내 문자열은 출력하지 않아야 합니다). 단, 점수는 0점부터 100점까지만 입력받을 수 있으며 범위를 벗어났다면 '잘못된 점수'를 출력하고 합격, 불합격 여부는 출력하지 않아야 합니다."
   ]
  },
  {
   "cell_type": "code",
   "execution_count": 2,
   "metadata": {},
   "outputs": [
    {
     "name": "stdout",
     "output_type": "stream",
     "text": [
      "합격\n"
     ]
    }
   ],
   "source": [
    "kor, eng, mat, sci = map(int, input().split())\r\n",
    "\r\n",
    "if 0 <= kor <= 100 and 0 <= eng <= 100 and 0 <= mat <= 100 and 0 <= sci <= 100:\r\n",
    "    if ( kor + eng + mat + sci ) / 4 >= 80:\r\n",
    "        print('합격')\r\n",
    "        \r\n",
    "    else:\r\n",
    "        print('불합격')\r\n",
    "\r\n",
    "else:\r\n",
    "    print('잘못된 점수')"
   ]
  },
  {
   "cell_type": "code",
   "execution_count": null,
   "metadata": {},
   "outputs": [],
   "source": [
    "kor, eng, mat, sci = map(int, input().split())\r\n",
    "scores = [kor, eng, mat, sci]\r\n",
    "\r\n",
    "if all [0<=s<=100 for s in scores]:   # False not in -> all\r\n",
    "    if sum(scores)/len(scores) >= 80:\r\n",
    "        print('합격')\r\n",
    "    else:\r\n",
    "        print('불합격')\r\n",
    "    else:\r\n",
    "        print('잘못된 점수')"
   ]
  },
  {
   "cell_type": "markdown",
   "metadata": {},
   "source": [
    "# UNIT 15\r\n",
    "## 표준 입력으로 나이(만 나이)가 입력됩니다(입력 값은 7 이상 입력됨). 교통카드 시스템에서 시내버스 요금은 다음과 같으며 각 나이에 맞게 요금을 차감한 뒤 잔액이 출력되게 만드세요(if, elif 사용). 현재 교통카드에는 9,000원이 들어있습니다.\r\n",
    "\r\n",
    "### -어린이(초등학생, 만 7세 이상 12세 이하): 650원\r\n",
    "### -청소년(중∙고등학생, 만 13세 이상 18세 이하): 1,050원\r\n",
    "### -어른(일반, 만 19세 이상): 1,250원"
   ]
  },
  {
   "cell_type": "code",
   "execution_count": 4,
   "metadata": {},
   "outputs": [
    {
     "name": "stdout",
     "output_type": "stream",
     "text": [
      "8350\n"
     ]
    }
   ],
   "source": [
    "age = int(input())\r\n",
    "balance = 9000\r\n",
    "\r\n",
    "if 6 < age <= 12:\r\n",
    "    balance -= 650\r\n",
    "\r\n",
    "elif 12 < age <= 18:\r\n",
    "    balance -= 1050\r\n",
    "\r\n",
    "elif 18 < age:\r\n",
    "    balance -= 1250\r\n",
    "\r\n",
    "print(balance)"
   ]
  },
  {
   "cell_type": "markdown",
   "metadata": {},
   "source": [
    "# UNIT 16\r\n",
    "## 표준 입력으로 정수가 입력됩니다. 입력된 정수의 구구단을 출력하는 프로그램을 만드세요(input에서 안내 문자열은 출력하지 않아야 합니다). 출력 형식은 숫자 * 숫자 = 숫자처럼 만들고 숫자와 *, = 사이는 공백을 한 칸 띄웁니다."
   ]
  },
  {
   "cell_type": "code",
   "execution_count": 5,
   "metadata": {},
   "outputs": [
    {
     "name": "stdout",
     "output_type": "stream",
     "text": [
      "2 * 1 = 2\n",
      "2 * 2 = 4\n",
      "2 * 3 = 6\n",
      "2 * 4 = 8\n",
      "2 * 5 = 10\n",
      "2 * 6 = 12\n",
      "2 * 7 = 14\n",
      "2 * 8 = 16\n",
      "2 * 9 = 18\n"
     ]
    }
   ],
   "source": [
    "num = int(input())\r\n",
    "\r\n",
    "for i in range(1, 10):\r\n",
    "    print(f'{num} * {i} = {num*i}')"
   ]
  },
  {
   "cell_type": "markdown",
   "metadata": {},
   "source": [
    "# UNIT 17\r\n",
    "## 표준 입력으로 금액(정수)이 입력됩니다. 1회당 요금은 1,350원이고, 교통카드를 사용했을 때마다의 잔액을 각 줄에 출력하는 프로그램을 만드세요(input에서 안내 문자열은 출력하지 않아야 합니다). 단, 최초 금액은 출력하지 않아야 합니다. 그리고 잔액은 음수가 될 수 없으며 잔액이 부족하면 출력을 끝냅니다."
   ]
  },
  {
   "cell_type": "code",
   "execution_count": 1,
   "metadata": {},
   "outputs": [
    {
     "name": "stdout",
     "output_type": "stream",
     "text": [
      "8650\n",
      "7300\n",
      "5950\n",
      "4600\n",
      "3250\n",
      "1900\n",
      "550\n"
     ]
    }
   ],
   "source": [
    "x = int(input())\r\n",
    "\r\n",
    "while x >= 1350:\r\n",
    "    x -= 1350\r\n",
    "    print(x)"
   ]
  },
  {
   "cell_type": "markdown",
   "metadata": {},
   "source": [
    "# UNIT 18\r\n",
    "## 표준 입력으로 정수 두 개가 입력됩니다(첫 번째 입력 값의 범위는 1~200, 두 번째 입력 값의 범위는 10~200이며 첫 번째 입력 값은 두 번째 입력 값보다 항상 작습니다). 다음 소스 코드를 완성하여 첫 번째 정수와 두 번째 정수 사이의 숫자 중 3으로 끝나지 않는 숫자가 출력되게 만드세요. 정답에 코드를 작성할 때는 while True:에 맞춰서 들여쓰기를 해주세요."
   ]
  },
  {
   "cell_type": "code",
   "execution_count": 6,
   "metadata": {},
   "outputs": [
    {
     "name": "stdout",
     "output_type": "stream",
     "text": [
      "21 22 24 25 26 27 28 29 30 31 32 "
     ]
    }
   ],
   "source": [
    "start, stop = map(int, input().split())\r\n",
    " \r\n",
    "i = start\r\n",
    " \r\n",
    "while True:\r\n",
    "    if 1 <= start <= 200 and 10 <= stop <= 200 and start < stop:\r\n",
    "        if i % 10 == 3:\r\n",
    "            i += 1\r\n",
    "            continue\r\n",
    "        elif i > stop:\r\n",
    "            break\r\n",
    "    print(i, end=' ')\r\n",
    "    i += 1"
   ]
  },
  {
   "cell_type": "markdown",
   "metadata": {},
   "source": [
    "### UNIT 18 풀이\r\n",
    "### while 반복문에서 print로 i의 값을 출력한 뒤 i를 1씩 증가시키고 있습니다. 따라서 print 윗부분의 코드를 완성하여 3으로 끝나지 않는 숫자를 출력해야 합니다.\r\n",
    "\r\n",
    "먼저 3으로 끝나지 않는 숫자를 구하려면 i를 10으로 나눈 뒤 나머지가 3이 아닌지 검사하면 됩니다. 하지만 if i % 10 != 3:에서 i를 출력하더라도 그 아래에 있는 print에서도 i를 출력하므로 원하는 결과가 나오지 않게 됩니다. 따라서 아래에 있는 print에서 i가 출력되지 않도록 continue로 코드를 건너뛰어야 합니다.\r\n",
    "\r\n",
    "3으로 끝나지 않는 숫자만 출력되도록 하려면 if i % 10 == 3:과 같이 if 조건문을 만들어서 3으로 끝나는 숫자일 때 continue로 건너뜁니다. 이렇게 하면 그 아래에 있는 print에서 3으로 끝나지 않는 숫자만 출력할 수 있습니다. 그리고 continue로 코드를 건너뛰면 아래에 있는 i += 1까지 건너뛰게 되므로 continue 위에 i += 1을 넣어주어야 합니다.\r\n",
    "\r\n",
    "그리고 while 반복문에 True가 지정되어 있으므로 무한 루프입니다. 따라서 if 조건문을 사용하여 i가 stop보다 클 때 break로 루프를 중단해줍니다. 여기서는 숫자를 출력하는 print가 아래에 있으므로 i가 stop과 같을 때 break로 중단해버리면 stop의 값은 출력되지 않습니다(stop의 값을 출력하기 전에 break로 루프가 중단됨). 그러므로 stop의 값까지 출력하려면 i가 stop과 같을 때는 그냥 넘어가고 루프를 한 번 더 실행하여 i가 stop보다 클 때 루프를 중단하는 것입니다."
   ]
  }
 ],
 "metadata": {
  "kernelspec": {
   "display_name": "Python 3.8.5 64-bit ('base': conda)",
   "name": "python385jvsc74a57bd08c1eae21719a0790335dcb83aad72b63b602cfe5cdb2bda0f60bc11d4f154e4b"
  },
  "language_info": {
   "codemirror_mode": {
    "name": "ipython",
    "version": 3
   },
   "file_extension": ".py",
   "mimetype": "text/x-python",
   "name": "python",
   "nbconvert_exporter": "python",
   "pygments_lexer": "ipython3",
   "version": "3.8.5"
  },
  "orig_nbformat": 3
 },
 "nbformat": 4,
 "nbformat_minor": 2
}