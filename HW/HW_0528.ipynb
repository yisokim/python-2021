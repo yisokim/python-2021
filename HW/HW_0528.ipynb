{
 "cells": [
  {
   "cell_type": "markdown",
   "metadata": {},
   "source": [
    "# UNIT 23. 지뢰찾기 "
   ]
  },
  {
   "cell_type": "code",
   "execution_count": 5,
   "metadata": {},
   "outputs": [
    {
     "ename": "SyntaxError",
     "evalue": "invalid syntax (<ipython-input-5-9e78d07e306f>, line 3)",
     "output_type": "error",
     "traceback": [
      "\u001b[1;36m  File \u001b[1;32m\"<ipython-input-5-9e78d07e306f>\"\u001b[1;36m, line \u001b[1;32m3\u001b[0m\n\u001b[1;33m    board = [[ 0 if random.random() < 0.7 else 1 for _in range(4)] for _in range(4)]\u001b[0m\n\u001b[1;37m                                                         ^\u001b[0m\n\u001b[1;31mSyntaxError\u001b[0m\u001b[1;31m:\u001b[0m invalid syntax\n"
     ]
    }
   ],
   "source": [
    "def mine():\r\n",
    "    import random\r\n",
    "    board = [[ 0 if random.random() < 0.7:\r\n",
    "        else 1 for _in range(4)] for _in range(4)]"
   ]
  },
  {
   "cell_type": "code",
   "execution_count": null,
   "metadata": {},
   "outputs": [],
   "source": [
    "# STEP 1) matrix구조를 활용해 matrix라는 변수에 빈 리스트를 만든다.\r\n",
    "x, y = map(int, input().split())\r\n",
    "\r\n",
    "matrix = []  # list와 append로 입력 값을 리스트를 만들어 주는 방법\r\n",
    "for i in range(row):\r\n",
    "    matrix.append(list(input()))\r\n"
   ]
  }
 ],
 "metadata": {
  "kernelspec": {
   "display_name": "Python 3.8.5 64-bit ('base': conda)",
   "name": "python385jvsc74a57bd08c1eae21719a0790335dcb83aad72b63b602cfe5cdb2bda0f60bc11d4f154e4b"
  },
  "language_info": {
   "name": "python",
   "version": ""
  },
  "orig_nbformat": 2
 },
 "nbformat": 4,
 "nbformat_minor": 2
}