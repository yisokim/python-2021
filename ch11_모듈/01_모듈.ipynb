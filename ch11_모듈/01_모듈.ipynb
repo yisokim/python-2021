{
 "cells": [
  {
   "cell_type": "markdown",
   "metadata": {},
   "source": [
    "# 11장. 모듈과 패키지"
   ]
  },
  {
   "cell_type": "markdown",
   "metadata": {},
   "source": [
    "## - 모듈 만들기"
   ]
  },
  {
   "cell_type": "code",
   "execution_count": 1,
   "metadata": {},
   "outputs": [],
   "source": [
    "def conver_c2f(celcius_value):\r\n",
    "    return celcius_value * 9. / 5 + 32"
   ]
  },
  {
   "cell_type": "code",
   "execution_count": 2,
   "metadata": {},
   "outputs": [
    {
     "name": "stdout",
     "output_type": "stream",
     "text": [
      "섭씨 온도: 17.0, 화씨 온도: 62.6\n"
     ]
    }
   ],
   "source": [
    "celcius = float(input('섭씨 온도'))\r\n",
    "fahrenheit = conver_c2f(celcius)\r\n",
    "print(f'섭씨 온도: {celcius:.1f}, 화씨 온도: {fahrenheit:.1f}')"
   ]
  },
  {
   "cell_type": "code",
   "execution_count": 3,
   "metadata": {},
   "outputs": [
    {
     "name": "stdout",
     "output_type": "stream",
     "text": [
      "섭씨 온도: 17.0, 화씨 온도: 62.6\n"
     ]
    }
   ],
   "source": [
    "import module1  # as - alias, 축약명칭\r\n",
    "\r\n",
    "celcius = float(input('섭씨 온도'))\r\n",
    "fahrenheit = module1.convert_c2f_m(celcius)\r\n",
    "print(f'섭씨 온도: {celcius:.1f}, 화씨 온도: {fahrenheit:.1f}')"
   ]
  },
  {
   "cell_type": "code",
   "execution_count": 4,
   "metadata": {},
   "outputs": [
    {
     "name": "stdout",
     "output_type": "stream",
     "text": [
      "섭씨 온도: 17.0, 화씨 온도: 62.6\n"
     ]
    }
   ],
   "source": [
    "import module1 as m1  # as - alias, 축약명칭\r\n",
    "\r\n",
    "celcius = float(input('섭씨 온도'))\r\n",
    "fahrenheit = m1.convert_c2f_m(celcius)\r\n",
    "print(f'섭씨 온도: {celcius:.1f}, 화씨 온도: {fahrenheit:.1f}')"
   ]
  },
  {
   "cell_type": "code",
   "execution_count": 5,
   "metadata": {},
   "outputs": [
    {
     "name": "stdout",
     "output_type": "stream",
     "text": [
      "섭씨 온도: 17.0, 화씨 온도: 62.6\n"
     ]
    }
   ],
   "source": [
    "from module1 import convert_c2f_m # as - alias, 축약명칭\r\n",
    "\r\n",
    "celcius = float(input('섭씨 온도'))\r\n",
    "fahrenheit = module1.convert_c2f_m(celcius)\r\n",
    "print(f'섭씨 온도: {celcius:.1f}, 화씨 온도: {fahrenheit:.1f}')"
   ]
  },
  {
   "cell_type": "code",
   "execution_count": 6,
   "metadata": {},
   "outputs": [
    {
     "name": "stdout",
     "output_type": "stream",
     "text": [
      "화씨 온도: 17.0, 섭씨 온도: -8.3\n"
     ]
    }
   ],
   "source": [
    "from module1 import * \r\n",
    "\r\n",
    "fahrenheit = float(input('화씨 온도'))\r\n",
    "celcius = convert_f2c_m(celcius)\r\n",
    "print(f'화씨 온도: {fahrenheit:.1f}, 섭씨 온도: {celcius:.1f}')"
   ]
  },
  {
   "cell_type": "code",
   "execution_count": 1,
   "metadata": {},
   "outputs": [
    {
     "ename": "ModuleNotFoundError",
     "evalue": "No module named 'module'",
     "output_type": "error",
     "traceback": [
      "\u001b[1;31m---------------------------------------------------------------------------\u001b[0m",
      "\u001b[1;31mModuleNotFoundError\u001b[0m                       Traceback (most recent call last)",
      "\u001b[1;32m<ipython-input-1-61494a0f45d1>\u001b[0m in \u001b[0;36m<module>\u001b[1;34m\u001b[0m\n\u001b[1;32m----> 1\u001b[1;33m \u001b[1;32mimport\u001b[0m \u001b[0mmodule\u001b[0m\u001b[1;33m.\u001b[0m\u001b[0mmodule1\u001b[0m \u001b[1;32mas\u001b[0m \u001b[0mmm1\u001b[0m\u001b[1;33m\u001b[0m\u001b[1;33m\u001b[0m\u001b[0m\n\u001b[0m\u001b[0;32m      2\u001b[0m \u001b[0mmm1\u001b[0m\u001b[1;33m.\u001b[0m\u001b[0mconvert_f2c_m\u001b[0m\u001b[1;33m(\u001b[0m\u001b[1;36m100.\u001b[0m\u001b[1;33m)\u001b[0m\u001b[1;33m\u001b[0m\u001b[1;33m\u001b[0m\u001b[0m\n",
      "\u001b[1;31mModuleNotFoundError\u001b[0m: No module named 'module'"
     ]
    }
   ],
   "source": [
    "import module.module1 as mm1\r\n",
    "mm1.convert_f2c_m(100.)"
   ]
  },
  {
   "cell_type": "markdown",
   "metadata": {},
   "source": [
    "## - 내장모듈"
   ]
  },
  {
   "cell_type": "code",
   "execution_count": 3,
   "metadata": {},
   "outputs": [
    {
     "data": {
      "text/plain": "(0.8363375023320742, 180)"
     },
     "execution_count": 3,
     "metadata": {},
     "output_type": "execute_result"
    }
   ],
   "source": [
    "import random\r\n",
    "random.seed(2021)\r\n",
    "random.random(), random.randint(100,200)"
   ]
  },
  {
   "cell_type": "code",
   "execution_count": null,
   "metadata": {},
   "outputs": [],
   "source": []
  },
  {
   "cell_type": "code",
   "execution_count": null,
   "metadata": {},
   "outputs": [],
   "source": []
  }
 ],
 "metadata": {
  "kernelspec": {
   "display_name": "Python 3.8.5 64-bit ('base': conda)",
   "name": "python385jvsc74a57bd08c1eae21719a0790335dcb83aad72b63b602cfe5cdb2bda0f60bc11d4f154e4b"
  },
  "language_info": {
   "name": "python",
   "version": ""
  },
  "orig_nbformat": 2
 },
 "nbformat": 4,
 "nbformat_minor": 2
}