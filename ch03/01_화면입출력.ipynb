{
 "metadata": {
  "language_info": {
   "codemirror_mode": {
    "name": "ipython",
    "version": 3
   },
   "file_extension": ".py",
   "mimetype": "text/x-python",
   "name": "python",
   "nbconvert_exporter": "python",
   "pygments_lexer": "ipython3",
   "version": "3.8.5"
  },
  "orig_nbformat": 2,
  "kernelspec": {
   "name": "python385jvsc74a57bd08c1eae21719a0790335dcb83aad72b63b602cfe5cdb2bda0f60bc11d4f154e4b",
   "display_name": "Python 3.8.5 64-bit ('CPB06GameN': virtualenv)"
  }
 },
 "nbformat": 4,
 "nbformat_minor": 2,
 "cells": [
  {
   "source": [
    "# 3장. 화면 입출력과 리스트"
   ],
   "cell_type": "markdown",
   "metadata": {}
  },
  {
   "source": [
    "### 1. 파이썬 프로그래밍 환경"
   ],
   "cell_type": "markdown",
   "metadata": {}
  },
  {
   "source": [
    "### 2. 화면 입출력"
   ],
   "cell_type": "markdown",
   "metadata": {}
  },
  {
   "cell_type": "code",
   "execution_count": 15,
   "metadata": {},
   "outputs": [
    {
     "output_type": "stream",
     "name": "stdout",
     "text": [
      "Enter your name:\n",
      "Hi  How are you?\n"
     ]
    }
   ],
   "source": [
    "print('Enter your name:')\n",
    "somebody = input()\n",
    "print('Hi', somebody, 'How are you?')"
   ]
  },
  {
   "cell_type": "code",
   "execution_count": 19,
   "metadata": {},
   "outputs": [
    {
     "output_type": "stream",
     "name": "stdout",
     "text": [
      "Hi, ! How are you?\n"
     ]
    }
   ],
   "source": [
    "somebody = input('Enter your name> ')\n",
    "print(f'Hi, {somebody}! How are you?')  # f string"
   ]
  },
  {
   "source": [
    "### 3. 화씨온도 변화기"
   ],
   "cell_type": "markdown",
   "metadata": {}
  },
  {
   "cell_type": "code",
   "execution_count": 21,
   "metadata": {},
   "outputs": [
    {
     "output_type": "stream",
     "name": "stdout",
     "text": [
      "섭씨 온도: 17.1 ==> 화씨 온도: 62.78\n"
     ]
    }
   ],
   "source": [
    "# celsius type = char()\n",
    "celsius = input('섭씨 온도를 입력하세요. ')\n",
    "fahrenheit = float(celsius) * 1.8 + 32 \n",
    "print(f'섭씨 온도: {celsius} ==> 화씨 온도: {fahrenheit}') "
   ]
  },
  {
   "cell_type": "code",
   "execution_count": 25,
   "metadata": {},
   "outputs": [
    {
     "output_type": "stream",
     "name": "stdout",
     "text": [
      "섭씨 온도: 17.4 ==> 화씨 온도: 63.32\n"
     ]
    }
   ],
   "source": [
    "# celsius type = num() 실수형\n",
    "celsius = float(input('섭씨 온도를 입력하세요. '))\n",
    "fahrenheit = celsius * 1.8 + 32 \n",
    "print(f'섭씨 온도: {celsius} ==> 화씨 온도: {fahrenheit:.2f}')  #:.2f 소수점 두자리까지 나타냄"
   ]
  },
  {
   "cell_type": "code",
   "execution_count": null,
   "metadata": {},
   "outputs": [],
   "source": []
  }
 ]
}