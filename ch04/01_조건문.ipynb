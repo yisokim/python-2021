{
 "metadata": {
  "language_info": {
   "codemirror_mode": {
    "name": "ipython",
    "version": 3
   },
   "file_extension": ".py",
   "mimetype": "text/x-python",
   "name": "python",
   "nbconvert_exporter": "python",
   "pygments_lexer": "ipython3",
   "version": "3.8.5"
  },
  "orig_nbformat": 2,
  "kernelspec": {
   "name": "python385jvsc74a57bd08c1eae21719a0790335dcb83aad72b63b602cfe5cdb2bda0f60bc11d4f154e4b",
   "display_name": "Python 3.8.5 64-bit ('base': conda)"
  }
 },
 "nbformat": 4,
 "nbformat_minor": 2,
 "cells": [
  {
   "source": [
    "# 조건문"
   ],
   "cell_type": "markdown",
   "metadata": {}
  },
  {
   "source": [
    "### if - else"
   ],
   "cell_type": "markdown",
   "metadata": {}
  },
  {
   "cell_type": "code",
   "execution_count": 2,
   "metadata": {},
   "outputs": [
    {
     "output_type": "stream",
     "name": "stdout",
     "text": [
      "welcome to the Club\n"
     ]
    }
   ],
   "source": [
    "age = int(input('Tell me your age.'))\n",
    "if age < 30:\n",
    "    print('welcome to the Club')\n",
    "else:\n",
    "    print('You are not accepted.')"
   ]
  },
  {
   "cell_type": "code",
   "execution_count": 3,
   "metadata": {},
   "outputs": [
    {
     "output_type": "stream",
     "name": "stdout",
     "text": [
      "You are not accepted.\n"
     ]
    }
   ],
   "source": [
    "age = int(input('Tell me your age.'))\n",
    "if age > 15 and age < 30:\n",
    "    print('welcome to the Club')\n",
    "else:\n",
    "\n",
    "    print('You are not accepted.')"
   ]
  },
  {
   "cell_type": "code",
   "execution_count": 6,
   "metadata": {},
   "outputs": [
    {
     "output_type": "stream",
     "name": "stdout",
     "text": [
      "welcome to the Club\n"
     ]
    }
   ],
   "source": [
    "# 조석식을 between 개념으로 사용 가능\n",
    "age = int(input('Tell me your age.'))\n",
    "if 15< age < 30:\n",
    "    print('welcome to the Club')\n",
    "else:\n",
    "    print('You are not accepted.')"
   ]
  },
  {
   "cell_type": "code",
   "execution_count": 5,
   "metadata": {},
   "outputs": [
    {
     "output_type": "stream",
     "name": "stdout",
     "text": [
      "welcome to the Club\n"
     ]
    }
   ],
   "source": [
    "# 조건문의 실행문이 단문일 경우에는 인덴테이션 무시해도 문제 없음\n",
    "age = int(input('Tell me your age.'))\n",
    "if age < 30: print('welcome to the Club')\n",
    "else: print('You are not accepted.')"
   ]
  },
  {
   "source": [
    "### - 3항 연산자"
   ],
   "cell_type": "markdown",
   "metadata": {}
  },
  {
   "cell_type": "code",
   "execution_count": 8,
   "metadata": {},
   "outputs": [
    {
     "output_type": "stream",
     "name": "stdout",
     "text": [
      "You are not accepted.\n"
     ]
    }
   ],
   "source": [
    "age = int(input('Tell me your age.'))\n",
    "msg = 'Welcome to the Club' if 15 < age < 30 else 'You are not accepted.'\n",
    "print(msg)"
   ]
  },
  {
   "source": [
    "### -조건의 판단"
   ],
   "cell_type": "markdown",
   "metadata": {}
  },
  {
   "cell_type": "code",
   "execution_count": 9,
   "metadata": {},
   "outputs": [
    {
     "output_type": "execute_result",
     "data": {
      "text/plain": [
       "True"
      ]
     },
     "metadata": {},
     "execution_count": 9
    }
   ],
   "source": [
    "# or  앞쪽의 값이 true면 or 이후의 값은 계산하지 않음\r\n",
    "3 == 3 or 99998"
   ]
  },
  {
   "cell_type": "code",
   "execution_count": 10,
   "metadata": {},
   "outputs": [
    {
     "output_type": "execute_result",
     "data": {
      "text/plain": [
       "99998"
      ]
     },
     "metadata": {},
     "execution_count": 10
    }
   ],
   "source": [
    "# or 앞쪽의 값이 False면 or 연산의 값은 무조건 or 이후의 값 \n",
    "3 == 23 or 99998"
   ]
  },
  {
   "source": [
    "### 2) if - elif -else"
   ],
   "cell_type": "markdown",
   "metadata": {}
  },
  {
   "cell_type": "code",
   "execution_count": 14,
   "metadata": {},
   "outputs": [
    {
     "output_type": "stream",
     "name": "stdout",
     "text": [
      "D\n"
     ]
    }
   ],
   "source": [
    "# 조건의 포함 범위가 커지는 방향으로 if문을 작성하면 틀림\n",
    "score = 98\n",
    "if score >= 90:\n",
    "    grade = 'A'\n",
    "if score >= 80:\n",
    "    grade = 'B'\n",
    "if score >= 70:\n",
    "    grade = 'C'\n",
    "if score >= 60:\n",
    "    grade = 'D'\n",
    "if score < 60:\n",
    "    grade = 'F' \n",
    "print(grade)"
   ]
  },
  {
   "cell_type": "code",
   "execution_count": 16,
   "metadata": {},
   "outputs": [
    {
     "output_type": "stream",
     "name": "stdout",
     "text": [
      "C\n"
     ]
    }
   ],
   "source": [
    "# 해결책 1) 포함 범위가 줄어드는 방향으로 [alt + 위족 방향키]\n",
    "score = 98\n",
    "if score < 60: grade = 'F' \n",
    "if score >= 60: grade = 'D'\n",
    "if score >= 90: grade = 'A'\n",
    "if score >= 80: grade = 'B'\n",
    "if score >= 70: grade = 'C'\n",
    "print(grade)"
   ]
  },
  {
   "cell_type": "code",
   "execution_count": 17,
   "metadata": {},
   "outputs": [
    {
     "output_type": "stream",
     "name": "stdout",
     "text": [
      "A\n"
     ]
    }
   ],
   "source": [
    "# 해결책 2) if - elif - else\n",
    "score = 98\n",
    "if score >= 90:\n",
    "    grade = 'A'\n",
    "elif score >= 80:\n",
    "    grade = 'B'\n",
    "elif score >= 70:\n",
    "    grade = 'C'\n",
    "elif score >= 60:\n",
    "    grade = 'D'\n",
    "else:\n",
    "    grade = 'F' \n",
    "print(grade)"
   ]
  },
  {
   "cell_type": "code",
   "execution_count": 2,
   "metadata": {},
   "outputs": [
    {
     "output_type": "error",
     "ename": "SyntaxError",
     "evalue": "invalid syntax (<ipython-input-2-b1cbbd9f6872>, line 2)",
     "traceback": [
      "\u001b[1;36m  File \u001b[1;32m\"<ipython-input-2-b1cbbd9f6872>\"\u001b[1;36m, line \u001b[1;32m2\u001b[0m\n\u001b[1;33m    msg = 'A' if age >= 90 elif 'B' age >= 80 elif 'C' age >= 70 elif 'D' age >= 60 else 'F'\u001b[0m\n\u001b[1;37m                           ^\u001b[0m\n\u001b[1;31mSyntaxError\u001b[0m\u001b[1;31m:\u001b[0m invalid syntax\n"
     ]
    }
   ],
   "source": [
    "age = int(input('Tell me your grade.'))\n",
    "msg = 'A' if age >= 90 elif 'B' age >= 80 elif 'C' age >= 70 elif 'D' age >= 60 else 'F'\n",
    "print(msg)"
   ]
  },
  {
   "cell_type": "code",
   "execution_count": 19,
   "metadata": {},
   "outputs": [
    {
     "output_type": "stream",
     "name": "stdout",
     "text": [
      "B\n"
     ]
    }
   ],
   "source": [
    "# 해결책 3 - 3항 연산자\n",
    "# 하나의 문장을 나눠쓰고 싶다 -> back slash\n",
    "age = int(input('Tell me your grade.'))\n",
    "msg = 'A' if age >= 90 else \\\n",
    "        'B' if age >= 80 else \\\n",
    "            'C' if score >= 70 else \\\n",
    "                'D' if score >= 60 else 'F'\n",
    "print(msg)"
   ]
  },
  {
   "source": [
    "### 3) if 응용"
   ],
   "cell_type": "markdown",
   "metadata": {}
  },
  {
   "cell_type": "code",
   "execution_count": 11,
   "metadata": {},
   "outputs": [
    {
     "output_type": "execute_result",
     "data": {
      "text/plain": [
       "datetime.date(2021, 5, 24)"
      ]
     },
     "metadata": {},
     "execution_count": 11
    }
   ],
   "source": [
    "from datetime import date\n",
    "date.today()"
   ]
  },
  {
   "cell_type": "code",
   "execution_count": 12,
   "metadata": {},
   "outputs": [
    {
     "output_type": "execute_result",
     "data": {
      "text/plain": [
       "(2021, 5, 24)"
      ]
     },
     "metadata": {},
     "execution_count": 12
    }
   ],
   "source": [
    "today = date.today()\n",
    "today.year, today.month, today.day"
   ]
  },
  {
   "cell_type": "code",
   "execution_count": 13,
   "metadata": {},
   "outputs": [
    {
     "output_type": "stream",
     "name": "stdout",
     "text": [
      "대학생\n"
     ]
    }
   ],
   "source": [
    "birth_year = int(input('태어난 연도를 입력하세요.'))\n",
    "age = today.year - birth_year + 1\n",
    "\n",
    "if 20 <= age <= 26: print('대학생')\n",
    "elif 17 <= age < 20: print('고등학생')\n",
    "elif 14 <= age < 17: print('중학생')\n",
    "elif 8 <= age < 14: print('초등학생')\n",
    "else: print('학생이 아님')"
   ]
  },
  {
   "cell_type": "code",
   "execution_count": 8,
   "metadata": {},
   "outputs": [
    {
     "output_type": "error",
     "ename": "SyntaxError",
     "evalue": "invalid syntax (<ipython-input-8-b34a4a697258>, line 3)",
     "traceback": [
      "\u001b[1;36m  File \u001b[1;32m\"<ipython-input-8-b34a4a697258>\"\u001b[1;36m, line \u001b[1;32m3\u001b[0m\n\u001b[1;33m    for i in range(1, 101)\u001b[0m\n\u001b[1;37m                          ^\u001b[0m\n\u001b[1;31mSyntaxError\u001b[0m\u001b[1;31m:\u001b[0m invalid syntax\n"
     ]
    }
   ],
   "source": [
    "number = int(input('숫자를 입력하시오.'))\n",
    "\n",
    "for i in range(1, 101)\n",
    "elif i % 3 == 0 and i % 5 == 0: print('Fizz Buzz')\n",
    "if i % 3 == 0: print('Fizz')\n",
    "elif i % 5 == 0: print('Buzz')\n",
    "else: print(i)"
   ]
  },
  {
   "cell_type": "code",
   "execution_count": null,
   "metadata": {},
   "outputs": [],
   "source": [
    "for i in range(1, 101)\n",
    "    print('Fizz'*(i%3==0) + 'Buzz'*(i%5==0) or i)"
   ]
  },
  {
   "cell_type": "code",
   "execution_count": null,
   "metadata": {},
   "outputs": [],
   "source": []
  }
 ]
}