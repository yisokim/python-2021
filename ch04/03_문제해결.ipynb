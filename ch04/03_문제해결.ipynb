{
 "cells": [
  {
   "cell_type": "markdown",
   "metadata": {},
   "source": [
    "# 1. 구구단 계산기"
   ]
  },
  {
   "cell_type": "code",
   "execution_count": 4,
   "metadata": {},
   "outputs": [
    {
     "name": "stdout",
     "output_type": "stream",
     "text": [
      "6 x 1 = 6\n",
      "6 x 2 = 12\n",
      "6 x 3 = 18\n",
      "6 x 4 = 24\n",
      "6 x 5 = 30\n",
      "6 x 6 = 36\n",
      "6 x 7 = 42\n",
      "6 x 8 = 48\n",
      "6 x 9 = 54\n"
     ]
    }
   ],
   "source": [
    "# 구구단 6단\n",
    "n = 6\n",
    "for i in range(1,10):\n",
    "    print(f'{n} x {i} = {n*i}')"
   ]
  },
  {
   "cell_type": "markdown",
   "metadata": {},
   "source": [
    "### 2. 문자열 역순 출력"
   ]
  },
  {
   "cell_type": "code",
   "execution_count": 7,
   "metadata": {},
   "outputs": [
    {
     "name": "stdout",
     "output_type": "stream",
     "text": [
      "hello world - dlrow olleh\n"
     ]
    }
   ],
   "source": [
    "sentence = input()\n",
    "reverse_sentence = ''\n",
    "for char in sentence:\n",
    "    reverse_sentence = char + reverse_sentence\n",
    "print(sentence, '-', reverse_sentence)"
   ]
  },
  {
   "cell_type": "markdown",
   "metadata": {},
   "source": [
    "### 3. 십진수를 이진수로 변환"
   ]
  },
  {
   "cell_type": "code",
   "execution_count": 8,
   "metadata": {},
   "outputs": [
    {
     "name": "stdout",
     "output_type": "stream",
     "text": [
      "10100\n"
     ]
    }
   ],
   "source": [
    "num = 20           # 십진수 값\n",
    "answer = ''        # 이진수 값을 저장할 null string\n",
    "while num > 0:\n",
    "    remainder = num % 2\n",
    "    num = num // 2\n",
    "    answer = str(remainder) + answer\n",
    "print(answer)"
   ]
  },
  {
   "cell_type": "code",
   "execution_count": 15,
   "metadata": {},
   "outputs": [],
   "source": [
    "import random\n",
    "random_number = random.randint(1,100)\n",
    "# random_number이라는 임의의 숫자 존재"
   ]
  },
  {
   "cell_type": "code",
   "execution_count": 20,
   "metadata": {},
   "outputs": [
    {
     "name": "stdout",
     "output_type": "stream",
     "text": [
      "Bingo. 정답은 67 !!!\n"
     ]
    }
   ],
   "source": [
    "while True:\n",
    "    guess = int(input('1~100 사이의 정수를 찾아보세요.'))\n",
    "    if guess == random_number:\n",
    "        print(f'Bingo. 정답은 {guess} !!!')\n",
    "        break\n",
    "    if guess > random_number:\n",
    "        print(f'입력한 숫자 {guess}은/는 큽니다')\n",
    "    else:\n",
    "        print(f'입력한 숫자 {guess}은/는 작습니다.')    "
   ]
  },
  {
   "cell_type": "markdown",
   "metadata": {},
   "source": [
    "### 5-1 별표 그리기"
   ]
  },
  {
   "cell_type": "code",
   "execution_count": 21,
   "metadata": {},
   "outputs": [
    {
     "name": "stdout",
     "output_type": "stream",
     "text": [
      "+\n",
      "++\n",
      "+++\n",
      "++++\n",
      "+++++\n"
     ]
    }
   ],
   "source": [
    "for i in range(1,6):\n",
    "    for k in range(i):\n",
    "        print('+', sep='', end='')\n",
    "    print()\n",
    "    # print()를 하지 않을 경우, 한줄로 나오기 때문에"
   ]
  },
  {
   "cell_type": "code",
   "execution_count": 30,
   "metadata": {},
   "outputs": [
    {
     "name": "stdout",
     "output_type": "stream",
     "text": [
      "+++++\n",
      " ++++\n",
      "  +++\n",
      "   ++\n",
      "    +\n"
     ]
    }
   ],
   "source": [
    "for i in range(1,6):\n",
    "    for k in range(1,i):    # blank 출력\n",
    "        print(' ', sep='', end='')\n",
    "    for k in range(5-i+1):  # 별 출력\n",
    "        print('+', sep='', end='')\n",
    "    print()"
   ]
  }
 ],
 "metadata": {
  "kernelspec": {
   "display_name": "Python 3.8.5 64-bit ('base': conda)",
   "name": "python385jvsc74a57bd08c1eae21719a0790335dcb83aad72b63b602cfe5cdb2bda0f60bc11d4f154e4b"
  },
  "language_info": {
   "codemirror_mode": {
    "name": "ipython",
    "version": 3
   },
   "file_extension": ".py",
   "mimetype": "text/x-python",
   "name": "python",
   "nbconvert_exporter": "python",
   "pygments_lexer": "ipython3",
   "version": "3.8.5"
  },
  "orig_nbformat": 2
 },
 "nbformat": 4,
 "nbformat_minor": 2
}