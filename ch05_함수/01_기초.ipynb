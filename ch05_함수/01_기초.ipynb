{
 "metadata": {
  "language_info": {
   "codemirror_mode": {
    "name": "ipython",
    "version": 3
   },
   "file_extension": ".py",
   "mimetype": "text/x-python",
   "name": "python",
   "nbconvert_exporter": "python",
   "pygments_lexer": "ipython3",
   "version": "3.8.5"
  },
  "orig_nbformat": 2,
  "kernelspec": {
   "name": "python385jvsc74a57bd08c1eae21719a0790335dcb83aad72b63b602cfe5cdb2bda0f60bc11d4f154e4b",
   "display_name": "Python 3.8.5 64-bit ('base': conda)"
  }
 },
 "nbformat": 4,
 "nbformat_minor": 2,
 "cells": [
  {
   "source": [
    "# 5장. 함수"
   ],
   "cell_type": "markdown",
   "metadata": {}
  },
  {
   "source": [
    "### 함수 기초"
   ],
   "cell_type": "markdown",
   "metadata": {}
  },
  {
   "cell_type": "code",
   "execution_count": 7,
   "metadata": {},
   "outputs": [],
   "source": [
    "# 함수 선언 예시\n",
    "def calculate_rectangle_area(x,y):\n",
    "    return x*y"
   ]
  },
  {
   "cell_type": "code",
   "execution_count": 8,
   "metadata": {},
   "outputs": [
    {
     "output_type": "execute_result",
     "data": {
      "text/plain": [
       "80"
      ]
     },
     "metadata": {},
     "execution_count": 8
    }
   ],
   "source": [
    "calculate_rectangle_area(10,8)"
   ]
  },
  {
   "cell_type": "code",
   "execution_count": 9,
   "metadata": {},
   "outputs": [],
   "source": [
    "import math\n",
    "def calculate_rectangle_area(radius):\n",
    "    return math.pi * radius *radius"
   ]
  },
  {
   "cell_type": "code",
   "execution_count": 13,
   "metadata": {},
   "outputs": [
    {
     "output_type": "stream",
     "name": "stdout",
     "text": [
      "반지름이 10인 원의 넓이는 314.1592653589793입니다.\n반지름이 10인 원의 넓이는 314.16입니다.\n"
     ]
    }
   ],
   "source": [
    "r = 10\n",
    "area = calculate_rectangle_area(10)\n",
    "print(f'반지름이 {r}인 원의 넓이는 {area}입니다.')\n",
    "print(f'반지름이 {r}인 원의 넓이는 {area:.2f}입니다.')  # :.2 소수점 둘째자리까지"
   ]
  },
  {
   "cell_type": "code",
   "execution_count": 16,
   "metadata": {},
   "outputs": [],
   "source": [
    "def is_plindrome(number):\n",
    "    s = str(number)\n",
    "    return s == s[::-1]"
   ]
  },
  {
   "cell_type": "code",
   "execution_count": 17,
   "metadata": {},
   "outputs": [
    {
     "output_type": "execute_result",
     "data": {
      "text/plain": [
       "(True, False)"
      ]
     },
     "metadata": {},
     "execution_count": 17
    }
   ],
   "source": [
    "is_plindrome(12321), is_plindrome(45645)"
   ]
  },
  {
   "cell_type": "code",
   "execution_count": 18,
   "metadata": {},
   "outputs": [],
   "source": [
    "def is_plindrome(s):\n",
    "    return s == s[::-1]  # 숫자든 문자든 모두 사용 가능"
   ]
  },
  {
   "cell_type": "code",
   "execution_count": 19,
   "metadata": {},
   "outputs": [
    {
     "output_type": "execute_result",
     "data": {
      "text/plain": [
       "(True, False)"
      ]
     },
     "metadata": {},
     "execution_count": 19
    }
   ],
   "source": [
    "is_plindrome(str(12321)), is_plindrome(str(45645))"
   ]
  },
  {
   "cell_type": "code",
   "execution_count": 20,
   "metadata": {},
   "outputs": [
    {
     "output_type": "execute_result",
     "data": {
      "text/plain": [
       "(True, True)"
      ]
     },
     "metadata": {},
     "execution_count": 20
    }
   ],
   "source": [
    "is_plindrome('madam'), is_plindrome('소주 만병만 주소')"
   ]
  },
  {
   "source": [
    "### 함수 심화\n",
    "    Scope Rule"
   ],
   "cell_type": "markdown",
   "metadata": {}
  },
  {
   "cell_type": "code",
   "execution_count": 31,
   "metadata": {},
   "outputs": [
    {
     "output_type": "stream",
     "name": "stdout",
     "text": [
      "I love London!\nI love Paris!\n"
     ]
    }
   ],
   "source": [
    "def f():\n",
    "    # 함수 안에 있는 s는 지역 변수\n",
    "    s = 'I love London!'\n",
    "    print(s)\n",
    "    \n",
    "# 함수 밖에 있는 변수 s는 전역 변수\n",
    "s = 'I love Paris!'\n",
    "f()\n",
    "print(s)"
   ]
  },
  {
   "cell_type": "code",
   "execution_count": 32,
   "metadata": {},
   "outputs": [
    {
     "output_type": "stream",
     "name": "stdout",
     "text": [
      "I love Paris\nI love Paris\n"
     ]
    }
   ],
   "source": [
    "def f():\n",
    "    print(s)  # s가 변수 선언한 것은아님 전역 변수\n",
    "\n",
    "s = 'I love Paris'\n",
    "f()\n",
    "print(s)"
   ]
  },
  {
   "cell_type": "code",
   "execution_count": 33,
   "metadata": {},
   "outputs": [
    {
     "output_type": "stream",
     "name": "stdout",
     "text": [
      "I love London\nI love London\n"
     ]
    }
   ],
   "source": [
    "def f():\n",
    "    global s\n",
    "    s = 'I love London'\n",
    "    print(s)\n",
    "\n",
    "s = 'I love Paris'\n",
    "f()\n",
    "print(s)"
   ]
  },
  {
   "source": [
    "### - 재귀 호출(Recursive call)"
   ],
   "cell_type": "markdown",
   "metadata": {}
  },
  {
   "cell_type": "code",
   "execution_count": 34,
   "metadata": {},
   "outputs": [],
   "source": [
    "def factorial(n):\n",
    "    if n == 0:\n",
    "        return 1\n",
    "    return n * factorial(n-1)"
   ]
  },
  {
   "cell_type": "code",
   "execution_count": 35,
   "metadata": {},
   "outputs": [
    {
     "output_type": "execute_result",
     "data": {
      "text/plain": [
       "120"
      ]
     },
     "metadata": {},
     "execution_count": 35
    }
   ],
   "source": [
    "factorial(5)"
   ]
  },
  {
   "cell_type": "code",
   "execution_count": 36,
   "metadata": {},
   "outputs": [],
   "source": [
    "def fibo(n):\n",
    "    if n == 2 or n ==1:\n",
    "        return 1\n",
    "    return fibo(n-1) + fibo(n-2)"
   ]
  },
  {
   "cell_type": "code",
   "execution_count": 37,
   "metadata": {},
   "outputs": [
    {
     "output_type": "stream",
     "name": "stdout",
     "text": [
      "fibo1) = 1\nfibo2) = 1\nfibo3) = 2\nfibo4) = 3\nfibo5) = 5\nfibo6) = 8\nfibo7) = 13\nfibo8) = 21\nfibo9) = 34\nfibo10) = 55\n"
     ]
    }
   ],
   "source": [
    "for i in range(1,11):\n",
    "    print(f'fibo{i}) = {fibo(i)}')"
   ]
  },
  {
   "source": [
    "### ▶ 리턴 값이 여러개인 경우"
   ],
   "cell_type": "markdown",
   "metadata": {}
  },
  {
   "cell_type": "code",
   "execution_count": 39,
   "metadata": {},
   "outputs": [],
   "source": [
    "# 면적, 둘레\n",
    "def about_circle(radius):\n",
    "    return math.pi * radius ** 2, 2 * math.pi * radius"
   ]
  },
  {
   "cell_type": "code",
   "execution_count": 40,
   "metadata": {},
   "outputs": [
    {
     "output_type": "stream",
     "name": "stdout",
     "text": [
      "면적 = 314.16, 둘레 = 62.83\n"
     ]
    }
   ],
   "source": [
    "area, circumference = about_circle(10)\n",
    "print(f'면적 = {area:.2f}, 둘레 = {circumference:.2f}')"
   ]
  },
  {
   "cell_type": "code",
   "execution_count": 41,
   "metadata": {},
   "outputs": [
    {
     "output_type": "stream",
     "name": "stdout",
     "text": [
      "반지름이 5일때 둘레는 31.42 입니다.\n"
     ]
    }
   ],
   "source": [
    "_, circumference = about_circle(5)\n",
    "print(f'반지름이 5일때 둘레는 {circumference:.2f} 입니다.')"
   ]
  }
 ]
}