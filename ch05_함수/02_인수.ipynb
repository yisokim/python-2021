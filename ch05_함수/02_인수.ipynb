{
 "metadata": {
  "language_info": {
   "codemirror_mode": {
    "name": "ipython",
    "version": 3
   },
   "file_extension": ".py",
   "mimetype": "text/x-python",
   "name": "python",
   "nbconvert_exporter": "python",
   "pygments_lexer": "ipython3",
   "version": "3.8.5"
  },
  "orig_nbformat": 2,
  "kernelspec": {
   "name": "python385jvsc74a57bd08c1eae21719a0790335dcb83aad72b63b602cfe5cdb2bda0f60bc11d4f154e4b",
   "display_name": "Python 3.8.5 64-bit ('base': conda)"
  }
 },
 "nbformat": 4,
 "nbformat_minor": 2,
 "cells": [
  {
   "source": [
    "### 함수의 인수\n",
    "- 위치 인수(positional argument)\n",
    "- 키워드 인수(keyword argument)\n",
    "- 디폴트 인수(default argument)\n",
    "- 가변 인수(variable-length argument)\n",
    "- 키워드 가변 인수(keyword variable-length argument)"
   ],
   "cell_type": "markdown",
   "metadata": {}
  },
  {
   "source": [
    "### - 키워드 인수(keyword argument)"
   ],
   "cell_type": "markdown",
   "metadata": {}
  },
  {
   "cell_type": "code",
   "execution_count": 2,
   "metadata": {},
   "outputs": [],
   "source": [
    "def print_something(my_name, your_name):\n",
    "    print(f'Hello {your_name}, my name is {my_name}')"
   ]
  },
  {
   "cell_type": "code",
   "execution_count": 3,
   "metadata": {},
   "outputs": [
    {
     "output_type": "stream",
     "name": "stdout",
     "text": [
      "Hello everyone, my name is Yiso\nHello everyone, my name is Yiso\n"
     ]
    }
   ],
   "source": [
    "print_something('Yiso', 'everyone')\n",
    "print_something(your_name='everyone', my_name='Yiso')"
   ]
  },
  {
   "source": [
    "### - 디폴트 인수(default argument)"
   ],
   "cell_type": "markdown",
   "metadata": {}
  },
  {
   "cell_type": "code",
   "execution_count": 4,
   "metadata": {},
   "outputs": [],
   "source": [
    "def print_something2(my_name, your_name='everyone'):\n",
    "    print(f'Hello {your_name}, my name is {my_name}')"
   ]
  },
  {
   "cell_type": "code",
   "execution_count": 5,
   "metadata": {},
   "outputs": [
    {
     "output_type": "stream",
     "name": "stdout",
     "text": [
      "Hello everyone, my name is Yiso\nHello everyone, my name is Yiso\n"
     ]
    }
   ],
   "source": [
    "print_something2('Yiso', 'everyone')\n",
    "print_something2('Yiso')"
   ]
  },
  {
   "source": [
    "### -가변 인수(variable-length argument)"
   ],
   "cell_type": "markdown",
   "metadata": {}
  },
  {
   "cell_type": "code",
   "execution_count": 6,
   "metadata": {},
   "outputs": [],
   "source": [
    "def sumation(*args):\n",
    "    return sum(args)"
   ]
  },
  {
   "cell_type": "code",
   "execution_count": 7,
   "metadata": {},
   "outputs": [
    {
     "output_type": "stream",
     "name": "stdout",
     "text": [
      "3\n10\n15\n"
     ]
    }
   ],
   "source": [
    "print(sumation(1,2))\n",
    "print(sumation(1,2,3,4))\n",
    "print(sumation(1,2,3,4,5))"
   ]
  },
  {
   "cell_type": "code",
   "execution_count": 9,
   "metadata": {},
   "outputs": [],
   "source": [
    "def sumation(a, b, *args):   # a,b는 위치변수여서 무조건 받고 *args 받거나 말거나...\n",
    "    return a + b + sum(args)"
   ]
  },
  {
   "cell_type": "code",
   "execution_count": 10,
   "metadata": {},
   "outputs": [
    {
     "output_type": "stream",
     "name": "stdout",
     "text": [
      "3\n10\n15\n"
     ]
    }
   ],
   "source": [
    "print(sumation(1,2))\n",
    "print(sumation(1,2,3,4))\n",
    "print(sumation(1,2,3,4,5))"
   ]
  },
  {
   "cell_type": "code",
   "execution_count": 11,
   "metadata": {},
   "outputs": [],
   "source": [
    "# def sumation(*args, c):\n",
    "#     return sum(args) + c\n",
    "# 에러! 위치인수 먼저, 가변인수(args) *순서중요"
   ]
  },
  {
   "source": [
    "### -키워드 가변 인수(keyword variable-length argument)"
   ],
   "cell_type": "markdown",
   "metadata": {}
  },
  {
   "cell_type": "code",
   "execution_count": 12,
   "metadata": {},
   "outputs": [],
   "source": [
    "def kwargs_test(**kwargs):\n",
    "    print(kwargs)"
   ]
  },
  {
   "cell_type": "code",
   "execution_count": 13,
   "metadata": {},
   "outputs": [
    {
     "output_type": "stream",
     "name": "stdout",
     "text": [
      "{'first': 3, 'second': 4, 'third': 5}\n"
     ]
    }
   ],
   "source": [
    "kwargs_test(first=3, second=4, third=5)\n",
    "# first(키워드)=4(argu) / dictionary 형태"
   ]
  },
  {
   "cell_type": "code",
   "execution_count": 14,
   "metadata": {},
   "outputs": [
    {
     "output_type": "stream",
     "name": "stdout",
     "text": [
      "3\n"
     ]
    }
   ],
   "source": [
    "my_dict = {'first': 3, 'second': 4, 'third': 5}\n",
    "print(my_dict['first'])  # my_dict.second 에러 "
   ]
  },
  {
   "cell_type": "code",
   "execution_count": 21,
   "metadata": {},
   "outputs": [],
   "source": [
    "def kwargs_test2(**kwargs):\n",
    "    print(kwargs)\n",
    "    print(f\"first value is {kwargs['first']}\")\n",
    "    print(f\"Second value is {kwargs['first']}\")\n",
    "    print(\"Third value is {third}\".format(**kwargs))"
   ]
  },
  {
   "cell_type": "code",
   "execution_count": 22,
   "metadata": {},
   "outputs": [
    {
     "output_type": "stream",
     "name": "stdout",
     "text": [
      "{'first': 3, 'second': 4, 'third': 5}\nfirst value is 3\nSecond value is 3\nThird value is 5\n"
     ]
    }
   ],
   "source": [
    "kwargs_test2(first=3,second=4, third=5)"
   ]
  },
  {
   "cell_type": "code",
   "execution_count": 31,
   "metadata": {},
   "outputs": [],
   "source": [
    "def kwargs_test2(first=3, Second=4, **kwargs):\n",
    "    print(f\"first value is {first}\")\n",
    "    print(f\"Second value is {second}\")\n",
    "    print(kwargs)"
   ]
  },
  {
   "cell_type": "code",
   "execution_count": 33,
   "metadata": {},
   "outputs": [
    {
     "output_type": "error",
     "ename": "NameError",
     "evalue": "name 'kwargs_test3' is not defined",
     "traceback": [
      "\u001b[1;31m---------------------------------------------------------------------------\u001b[0m",
      "\u001b[1;31mNameError\u001b[0m                                 Traceback (most recent call last)",
      "\u001b[1;32m<ipython-input-33-5e13878c7c4c>\u001b[0m in \u001b[0;36m<module>\u001b[1;34m\u001b[0m\n\u001b[1;32m----> 1\u001b[1;33m \u001b[0mkwargs_test3\u001b[0m\u001b[1;33m(\u001b[0m\u001b[0mfirst\u001b[0m\u001b[1;33m=\u001b[0m\u001b[1;36m3\u001b[0m\u001b[1;33m,\u001b[0m \u001b[0msecond\u001b[0m\u001b[1;33m=\u001b[0m\u001b[1;36m4\u001b[0m\u001b[1;33m,\u001b[0m \u001b[0mthird\u001b[0m\u001b[1;33m=\u001b[0m\u001b[1;36m5\u001b[0m\u001b[1;33m)\u001b[0m\u001b[1;33m\u001b[0m\u001b[1;33m\u001b[0m\u001b[0m\n\u001b[0m",
      "\u001b[1;31mNameError\u001b[0m: name 'kwargs_test3' is not defined"
     ]
    }
   ],
   "source": [
    "kwargs_test3(first=3, second=4, third=5)"
   ]
  },
  {
   "cell_type": "code",
   "execution_count": 50,
   "metadata": {},
   "outputs": [
    {
     "output_type": "stream",
     "name": "stdout",
     "text": [
      "906609\n"
     ]
    }
   ],
   "source": [
    "# 세 자리 수 두개를 곱해서 얻을 수 있는 palindrome\n",
    "\n",
    "def isPalindrome(string):\n",
    "    if string == string[::-1]:  # 대칭인 문자열\n",
    "      return True\n",
    "      return False\n",
    "\n",
    "maxValue = 0\n",
    "for i in range(100,1000):\n",
    "    for k in range(100,1000):\n",
    "        num = i * k\n",
    "        if isPalindrome(str(num)):\n",
    "            if num>maxValue:\n",
    "                maxValue = num\n",
    "print(maxValue)"
   ]
  },
  {
   "cell_type": "code",
   "execution_count": 60,
   "metadata": {},
   "outputs": [],
   "source": [
    "### 답\n",
    "def isPalindrome(string):\n",
    "    return string == string[::-1]  # 대칭인 문자열\n",
    "    \n",
    "    max_num, max_i, max_k = 0, 0, 0\n",
    "    for i in range(100,1000):\n",
    "        for k in range(100,1000):\n",
    "            if isPalindrome(str(i*k)):\n",
    "                if max_num < i * k:\n",
    "                    max_num = i * k\n",
    "                    max_i, max_k = i, k\n",
    "\n",
    "    print(max_num, max_i, max_k)"
   ]
  },
  {
   "cell_type": "code",
   "execution_count": null,
   "metadata": {},
   "outputs": [],
   "source": [
    "# 표준 입력으로 숫자 두 개가 입력됩니다. 다음 소스 코드를 완성하여 두 숫자의 덧셈, 뺄셈, 곱셈, 나눗셈의 결과가 출력되게 만드세요. 이때 나눗셈의 결과는 실수라야 합니다.\n",
    "\n",
    "def calc(a,b):\n",
    "    return a+b, a-b, a*b, a/b\n",
    "\n",
    "# calc 함수에 x와 y를 넣어서 두 수의 덧셈, 뺄셈, 곱셈, 나눗셈을 구하고 있습니다. 먼저 calc 함수는 값을 두 개를 받으므로 def calc(a, b):와 같이 만들어줍니다\n",
    "\n",
    "# 함수 안에서 return으로 a를 b로 더한 값, a에서 b를 뺀 값, a와 b를 곱한 값, a에서 b를 나눈 값을 반환해주면 됩니다.\n",
    "\n",
    "# 여기서 나눗셈의 결과는 실수가 나와야 하므로 나눗셈 연산자 /를 사용해야 합니다. 특히 return으로 값을 네 개 반환해야 하므로 각 반환값은 콤마로 구분해줍니다."
   ]
  },
  {
   "cell_type": "code",
   "execution_count": 61,
   "metadata": {},
   "outputs": [],
   "source": [
    "# 표준 입력으로 국어, 영어, 수학, 과학 점수가 입력됩니다. 다음 소스 코드를 완성하여 가장 높은 점수, 가장 낮은 점수, 평균 점수가 출력되게 만드세요. 평균 점수는 실수로 출력되어야 합니다.\n",
    "\n",
    "def get_min_max_score(kor, eng, mat, sci):\n",
    "    min, max = 100., 0.\n",
    "    for score in [kor, eng, mat, sci]:\n",
    "        if min > score:\n",
    "            min = score\n",
    "        if max < score:\n",
    "            max = score\n",
    "    return min, max"
   ]
  },
  {
   "cell_type": "code",
   "execution_count": 62,
   "metadata": {},
   "outputs": [],
   "source": [
    "def get_min_max_score1(*args):\n",
    "    return min(args), max(args)"
   ]
  },
  {
   "source": [
    "### - 딕셔너리 반복문 사용법"
   ],
   "cell_type": "markdown",
   "metadata": {}
  },
  {
   "cell_type": "code",
   "execution_count": 63,
   "metadata": {},
   "outputs": [
    {
     "output_type": "execute_result",
     "data": {
      "text/plain": [
       "dict_items([('kor', 90.0), ('eng', 80.0)])"
      ]
     },
     "metadata": {},
     "execution_count": 63
    }
   ],
   "source": [
    "my_dict = {'kor':90., 'eng':80.}\n",
    "my_dict.items()"
   ]
  },
  {
   "cell_type": "code",
   "execution_count": 64,
   "metadata": {},
   "outputs": [],
   "source": [
    "items = my_dict.items"
   ]
  },
  {
   "cell_type": "code",
   "execution_count": 67,
   "metadata": {},
   "outputs": [
    {
     "output_type": "stream",
     "name": "stdout",
     "text": [
      "kor 90.0 90.0\neng 80.0 80.0\n"
     ]
    }
   ],
   "source": [
    "for key, value in my_dict.items():\n",
    "    print(key, my_dict[key], value)"
   ]
  },
  {
   "source": [
    "### - 딕셔너리의 키/벨류만 뽑고 싶은 경우"
   ],
   "cell_type": "markdown",
   "metadata": {}
  },
  {
   "cell_type": "code",
   "execution_count": 69,
   "metadata": {},
   "outputs": [
    {
     "output_type": "execute_result",
     "data": {
      "text/plain": [
       "dict_values([90.0, 80.0])"
      ]
     },
     "metadata": {},
     "execution_count": 69
    }
   ],
   "source": [
    "my_dict.values()"
   ]
  },
  {
   "cell_type": "code",
   "execution_count": 70,
   "metadata": {},
   "outputs": [
    {
     "output_type": "execute_result",
     "data": {
      "text/plain": [
       "dict_keys(['kor', 'eng'])"
      ]
     },
     "metadata": {},
     "execution_count": 70
    }
   ],
   "source": [
    "my_dict.keys()"
   ]
  },
  {
   "cell_type": "code",
   "execution_count": 71,
   "metadata": {},
   "outputs": [],
   "source": [
    "def get_average(**kwargs):\n",
    "    sum = 0.\n",
    "    for key, value in kwargs.items():\n",
    "        # sum += kwargs[key]\n",
    "        sum += value\n",
    "    return sum / en(kwargs)"
   ]
  },
  {
   "cell_type": "code",
   "execution_count": 72,
   "metadata": {},
   "outputs": [],
   "source": [
    "def get_average2(**kwargs):\n",
    "    return sum(kwargs.values() / len(kwargs))"
   ]
  },
  {
   "cell_type": "code",
   "execution_count": null,
   "metadata": {},
   "outputs": [],
   "source": [
    "kor, eng, mat, sci = map(float, input(), split())"
   ]
  },
  {
   "cell_type": "code",
   "execution_count": null,
   "metadata": {},
   "outputs": [],
   "source": [
    "min_score, max_score = get_min_max_score(kor, eng, mat, sci)\n",
    "avg_score = get_average()"
   ]
  }
 ]
}