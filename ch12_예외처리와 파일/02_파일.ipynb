{
 "cells": [
  {
   "cell_type": "markdown",
   "metadata": {},
   "source": [
    "# 파일 다루기"
   ]
  },
  {
   "cell_type": "markdown",
   "metadata": {},
   "source": [
    "## - 텍스트 파일 읽기"
   ]
  },
  {
   "cell_type": "code",
   "execution_count": 1,
   "metadata": {},
   "outputs": [
    {
     "name": "stdout",
     "output_type": "stream",
     "text": [
      "I Have a Dream, a song to sing\n",
      "\n",
      "To help me cope, with anything\n",
      "\n",
      "If you see the wonder, of a fairy tale\n",
      "\n",
      "You can take the future, even if you fail\n",
      "\n",
      "I believe in angels\n",
      "\n",
      "Something good in everything I see\n",
      "\n",
      "I believe in angels\n",
      "\n",
      "When I know the time is right for me\n",
      "\n",
      "I'll cross the stream, I Have a Dream\n"
     ]
    }
   ],
   "source": [
    "f = open('dream.txt','r')\r\n",
    "contents = f.read()\r\n",
    "print(contents)\r\n",
    "f.close()"
   ]
  },
  {
   "cell_type": "code",
   "execution_count": 2,
   "metadata": {},
   "outputs": [
    {
     "name": "stdout",
     "output_type": "stream",
     "text": [
      "<class 'str'>\n",
      "I Have a Dream, a song to sing\n",
      "\n",
      "To help me cope, with anything\n",
      "\n",
      "If you see the wonder, of a fairy tale\n",
      "\n",
      "You can take the future, even if you fail\n",
      "\n",
      "I believe in angels\n",
      "\n",
      "Something good in everything I see\n",
      "\n",
      "I believe in angels\n",
      "\n",
      "When I know the time is right for me\n",
      "\n",
      "I'll cross the stream, I Have a Dream\n"
     ]
    }
   ],
   "source": [
    "# class -> str: text file\r\n",
    "with open('dream.txt','r') as my_file:\r\n",
    "    contents = my_file.read()\r\n",
    "    print(type(contents))\r\n",
    "    print(contents)"
   ]
  },
  {
   "cell_type": "code",
   "execution_count": 5,
   "metadata": {},
   "outputs": [
    {
     "name": "stdout",
     "output_type": "stream",
     "text": [
      "<class 'list'>\n",
      "['I Have a Dream, a song to sing\\n', '\\n', 'To help me cope, with anything\\n', '\\n', 'If you see the wonder, of a fairy tale\\n', '\\n', 'You can take the future, even if you fail\\n', '\\n', 'I believe in angels\\n', '\\n', 'Something good in everything I see\\n', '\\n', 'I believe in angels\\n', '\\n', 'When I know the time is right for me\\n', '\\n', \"I'll cross the stream, I Have a Dream\"]\n"
     ]
    }
   ],
   "source": [
    "# 한 줄씩 읽어서 리스트로 반환 - readlines\r\n",
    "with open('dream.txt','r') as my_file:\r\n",
    "    contents_list = my_file.readlines()\r\n",
    "    print(type(contents_list))\r\n",
    "    print(contents_list)"
   ]
  },
  {
   "cell_type": "code",
   "execution_count": 6,
   "metadata": {},
   "outputs": [
    {
     "data": {
      "text/plain": "'I Have a Dream, a song to sing\\n'"
     },
     "execution_count": 6,
     "metadata": {},
     "output_type": "execute_result"
    }
   ],
   "source": [
    "contents_list[0]"
   ]
  },
  {
   "cell_type": "code",
   "execution_count": 9,
   "metadata": {},
   "outputs": [
    {
     "name": "stdout",
     "output_type": "stream",
     "text": [
      "I Have a Dream, a song to sing\n",
      "\n",
      "To help me cope, with anything\n",
      "\n",
      "If you see the wonder, of a fairy tale\n",
      "\n",
      "You can take the future, even if you fail\n",
      "\n",
      "I believe in angels\n",
      "\n",
      "Something good in everything I see\n",
      "\n",
      "I believe in angels\n",
      "\n",
      "When I know the time is right for me\n",
      "\n",
      "I'll cross the stream, I Have a Dream\n"
     ]
    }
   ],
   "source": [
    "# 한 줄 단위로 읽기 - readline\r\n",
    "with open('dream.txt','r') as my_file:\r\n",
    "    while True:\r\n",
    "        line = my_file.readline()\r\n",
    "        if not line: # 마지막을 따지는 조건\r\n",
    "            break\r\n",
    "        print(line.replace('\\n',''))"
   ]
  },
  {
   "cell_type": "code",
   "execution_count": 10,
   "metadata": {},
   "outputs": [
    {
     "name": "stdout",
     "output_type": "stream",
     "text": [
      "1 === I Have a Dream, a song to sing\n",
      "2 === \n",
      "3 === To help me cope, with anything\n",
      "4 === \n",
      "5 === If you see the wonder, of a fairy tale\n",
      "6 === \n",
      "7 === You can take the future, even if you fail\n",
      "8 === \n",
      "9 === I believe in angels\n",
      "10 === \n",
      "11 === Something good in everything I see\n",
      "12 === \n",
      "13 === I believe in angels\n",
      "14 === \n",
      "15 === When I know the time is right for me\n",
      "16 === \n",
      "17 === I'll cross the stream, I Have a Dream\n"
     ]
    }
   ],
   "source": [
    "with open('dream.txt','r') as my_file:\r\n",
    "        number = 1\r\n",
    "        while True:\r\n",
    "                line = my_file.readline()\r\n",
    "                if not line: # 마지막을 따지는 조건\r\n",
    "                        break\r\n",
    "                print(number, '===', line.replace('\\n',''))\r\n",
    "                number += 1"
   ]
  },
  {
   "cell_type": "markdown",
   "metadata": {},
   "source": [
    "## - 파일 쓰기"
   ]
  },
  {
   "cell_type": "code",
   "execution_count": 13,
   "metadata": {},
   "outputs": [],
   "source": [
    "with open('new_file.txt', 'w') as f:\r\n",
    "    f.write('A quick brown fox jumps over the lazy dog.')"
   ]
  },
  {
   "cell_type": "code",
   "execution_count": 15,
   "metadata": {},
   "outputs": [],
   "source": [
    "# append mode가 아닌 write mode일 경우, overwrite 한다.\r\n",
    "with open('new_file.txt', 'w', encoding = 'utf8') as f:\r\n",
    "    f.write('새로운 글을 씁니다.')"
   ]
  },
  {
   "cell_type": "code",
   "execution_count": 17,
   "metadata": {},
   "outputs": [],
   "source": [
    "with open('new_file.txt', 'a', encoding = 'utf8') as f:\r\n",
    "    f.write('A quick brown fox jumps over the lazy dog.\\n')\r\n",
    "    f.write('새로운 글을 씁니다.\\n')"
   ]
  },
  {
   "cell_type": "markdown",
   "metadata": {},
   "source": [
    "## - 디렉토리 만들기"
   ]
  },
  {
   "cell_type": "code",
   "execution_count": 23,
   "metadata": {},
   "outputs": [],
   "source": [
    "import os\r\n",
    "os.mkdir('subdir')"
   ]
  },
  {
   "cell_type": "code",
   "execution_count": 25,
   "metadata": {},
   "outputs": [
    {
     "ename": "FileExistsError",
     "evalue": "[WinError 183] 파일이 이미 있으므로 만들 수 없습니다: 'subdir'",
     "output_type": "error",
     "traceback": [
      "\u001b[1;31m---------------------------------------------------------------------------\u001b[0m",
      "\u001b[1;31mFileExistsError\u001b[0m                           Traceback (most recent call last)",
      "\u001b[1;32m<ipython-input-25-2c69015a6ede>\u001b[0m in \u001b[0;36m<module>\u001b[1;34m\u001b[0m\n\u001b[1;32m----> 1\u001b[1;33m \u001b[0mos\u001b[0m\u001b[1;33m.\u001b[0m\u001b[0mmkdir\u001b[0m\u001b[1;33m(\u001b[0m\u001b[1;34m'subdir'\u001b[0m\u001b[1;33m)\u001b[0m\u001b[1;33m\u001b[0m\u001b[1;33m\u001b[0m\u001b[0m\n\u001b[0m",
      "\u001b[1;31mFileExistsError\u001b[0m: [WinError 183] 파일이 이미 있으므로 만들 수 없습니다: 'subdir'"
     ]
    }
   ],
   "source": [
    "os.mkdir('subdir')"
   ]
  },
  {
   "cell_type": "code",
   "execution_count": 24,
   "metadata": {},
   "outputs": [
    {
     "data": {
      "text/plain": "True"
     },
     "execution_count": 24,
     "metadata": {},
     "output_type": "execute_result"
    }
   ],
   "source": [
    "os.path.exists('subdir')"
   ]
  },
  {
   "cell_type": "code",
   "execution_count": 26,
   "metadata": {},
   "outputs": [],
   "source": [
    "if not os.path.exists('subdir'):\r\n",
    "    os.mkdir('subdir')"
   ]
  },
  {
   "cell_type": "markdown",
   "metadata": {},
   "source": [
    "## - dream.txt의 홀수번째 라인을 subdir/dread_odd.txt에 쓰기"
   ]
  },
  {
   "cell_type": "code",
   "execution_count": 30,
   "metadata": {},
   "outputs": [],
   "source": [
    "with open('dream.txt','r') as rf:\r\n",
    "        lines = rf.readlines()\r\n",
    "\r\n",
    "if not os.path.exists('subdir'):\r\n",
    "        os.mkdir('subdir')\r\n",
    "\r\n",
    "with open('subdir/dream_odd.txt', 'w') as wf:\r\n",
    "        for index, line in enumerate(lines):\r\n",
    "                if index % 2 == 0:\r\n",
    "                        wf.write(line)"
   ]
  },
  {
   "cell_type": "markdown",
   "metadata": {},
   "source": [
    "## - binary data - pickle 모듈 활용"
   ]
  },
  {
   "cell_type": "code",
   "execution_count": 31,
   "metadata": {},
   "outputs": [],
   "source": [
    "test_list = [1, True, 3.14, 'String']"
   ]
  },
  {
   "cell_type": "code",
   "execution_count": 32,
   "metadata": {},
   "outputs": [],
   "source": [
    "import pickle\r\n",
    "\r\n",
    "with open('list.pickle', 'wb') as bf:\r\n",
    "    pickle.dump(test_list, bf)"
   ]
  },
  {
   "cell_type": "code",
   "execution_count": 34,
   "metadata": {},
   "outputs": [
    {
     "data": {
      "text/plain": "[1, True, 3.14, 'String']"
     },
     "execution_count": 34,
     "metadata": {},
     "output_type": "execute_result"
    }
   ],
   "source": [
    "with open('list.pickle', 'rb') as bf:\r\n",
    "   x = pickle.load(bf)\r\n",
    "x"
   ]
  }
 ],
 "metadata": {
  "kernelspec": {
   "display_name": "Python 3.8.5 64-bit ('base': conda)",
   "name": "python385jvsc74a57bd08c1eae21719a0790335dcb83aad72b63b602cfe5cdb2bda0f60bc11d4f154e4b"
  },
  "language_info": {
   "codemirror_mode": {
    "name": "ipython",
    "version": 3
   },
   "file_extension": ".py",
   "mimetype": "text/x-python",
   "name": "python",
   "nbconvert_exporter": "python",
   "pygments_lexer": "ipython3",
   "version": "3.8.5"
  },
  "orig_nbformat": 2
 },
 "nbformat": 4,
 "nbformat_minor": 2
}