{
 "cells": [
  {
   "cell_type": "code",
   "execution_count": 26,
   "metadata": {},
   "outputs": [],
   "source": [
    "import requests\r\n",
    "\r\n",
    "base_url = 'https://api.github.com/repos'\r\n",
    "user_url = 'TeamLab'\r\n",
    "repo_name = 'introduction_to_python_TEAMLAB_MOOC'\r\n",
    "path_name = 'code/6/yesterday.txt'\r\n",
    "url = f'{base_url}/{user_url}/{repo_name}/contents/{path_name}'\r\n",
    "req = requests.get(url)"
   ]
  },
  {
   "cell_type": "code",
   "execution_count": 27,
   "metadata": {},
   "outputs": [
    {
     "data": {
      "text/plain": "200"
     },
     "execution_count": 27,
     "metadata": {},
     "output_type": "execute_result"
    }
   ],
   "source": [
    "req.status_code"
   ]
  },
  {
   "cell_type": "code",
   "execution_count": 28,
   "metadata": {},
   "outputs": [
    {
     "data": {
      "text/plain": "b'{\"name\":\"yesterday.txt\",\"path\":\"code/6/yesterday.txt\",\"sha\":\"eb2fd6fc6e8fd51df6c5c15582f687c82462bd75\",\"size\":638,\"url\":\"https://api.github.com/repos/TeamLab/introduction_to_python_TEAMLAB_MOOC/contents/code/6/yesterday.txt?ref=master\",\"html_url\":\"https://github.com/TeamLab/introduction_to_python_TEAMLAB_MOOC/blob/master/code/6/yesterday.txt\",\"git_url\":\"https://api.github.com/repos/TeamLab/introduction_to_python_TEAMLAB_MOOC/git/blobs/eb2fd6fc6e8fd51df6c5c15582f687c82462bd75\",\"download_url\":\"https://raw.githubusercontent.com/TeamLab/introduction_to_python_TEAMLAB_MOOC/master/code/6/yesterday.txt\",\"type\":\"file\",\"content\":\"WWVzdGVyZGF5LCBhbGwgbXkgdHJvdWJsZXMgc2VlbWVkIHNvIGZhciBhd2F5\\\\nCk5vdyBpdCBsb29rcyBhcyB0aG91Z2ggdGhleSdyZSBoZXJlIHRvIHN0YXkK\\\\nb2gsIEkgYmVsaWV2ZSBpbiB5ZXN0ZXJkYXkKClN1ZGRlbmx5LCBJJ20gbm90\\\\nIGhhbGYgdGhlIG1hbiBJIHVzZWQgdG8gYmUKVGhlcmUncyBhIHNoYWRvdyBo\\\\nYW5naW5nIG92ZXIgbWUKT2gsIHllc3RlcmRheSBjYW1lIHN1ZGRlbmx5LgoK\\\\nV2h5IHNoZSBoYWQgdG8gZ28/CkkgZG9uJ3Qga25vdywgc2hlIHdvdWxkbid0\\\\nIHNheQpJIHNhaWQgc29tZXRoaW5nIHdyb25nCk5vdyBJIGxvbmcgZm9yIHll\\\\nc3RlcmRheS4KClllc3RlcmRheSBsb3ZlIHdhcyBzdWNoIGFuIGVhc3kgZ2Ft\\\\nZSB0byBwbGF5Ck5vdyBJIG5lZWQgYSBwbGFjZSB0byBoaWRlIGF3YXkKT2gs\\\\nIEkgYmVsaWV2ZSBpbiB5ZXN0ZXJkYXkuCgpXaHkgc2hlIGhhZCB0byBnbz8K\\\\nSSBkb24ndCBrbm93LCBzaGUgd291bGRuJ3Qgc2F5Ckkgc2FpZCBzb21ldGhp\\\\nbmcgd3JvbmcKTm93IEkgbG9uZyBmb3IgeWVzdGVyZGF5LgoKWWVzdGVyZGF5\\\\nIGxvdmUgd2FzIHN1Y2ggYW4gZWFzeSBnYW1lIHRvIHBsYXkKTm93IEkgbmVl\\\\nZCBhIHBsYWNlIHRvIGhpZGUgYXdheQpPaCwgSSBiZWxpZXZlIGluIHllc3Rl\\\\ncmRheS4uLgo=\\\\n\",\"encoding\":\"base64\",\"_links\":{\"self\":\"https://api.github.com/repos/TeamLab/introduction_to_python_TEAMLAB_MOOC/contents/code/6/yesterday.txt?ref=master\",\"git\":\"https://api.github.com/repos/TeamLab/introduction_to_python_TEAMLAB_MOOC/git/blobs/eb2fd6fc6e8fd51df6c5c15582f687c82462bd75\",\"html\":\"https://github.com/TeamLab/introduction_to_python_TEAMLAB_MOOC/blob/master/code/6/yesterday.txt\"}}'"
     },
     "execution_count": 28,
     "metadata": {},
     "output_type": "execute_result"
    }
   ],
   "source": [
    "req.content"
   ]
  },
  {
   "cell_type": "code",
   "execution_count": 29,
   "metadata": {},
   "outputs": [
    {
     "data": {
      "text/plain": "{'name': 'yesterday.txt',\n 'path': 'code/6/yesterday.txt',\n 'sha': 'eb2fd6fc6e8fd51df6c5c15582f687c82462bd75',\n 'size': 638,\n 'url': 'https://api.github.com/repos/TeamLab/introduction_to_python_TEAMLAB_MOOC/contents/code/6/yesterday.txt?ref=master',\n 'html_url': 'https://github.com/TeamLab/introduction_to_python_TEAMLAB_MOOC/blob/master/code/6/yesterday.txt',\n 'git_url': 'https://api.github.com/repos/TeamLab/introduction_to_python_TEAMLAB_MOOC/git/blobs/eb2fd6fc6e8fd51df6c5c15582f687c82462bd75',\n 'download_url': 'https://raw.githubusercontent.com/TeamLab/introduction_to_python_TEAMLAB_MOOC/master/code/6/yesterday.txt',\n 'type': 'file',\n 'content': 'WWVzdGVyZGF5LCBhbGwgbXkgdHJvdWJsZXMgc2VlbWVkIHNvIGZhciBhd2F5\\nCk5vdyBpdCBsb29rcyBhcyB0aG91Z2ggdGhleSdyZSBoZXJlIHRvIHN0YXkK\\nb2gsIEkgYmVsaWV2ZSBpbiB5ZXN0ZXJkYXkKClN1ZGRlbmx5LCBJJ20gbm90\\nIGhhbGYgdGhlIG1hbiBJIHVzZWQgdG8gYmUKVGhlcmUncyBhIHNoYWRvdyBo\\nYW5naW5nIG92ZXIgbWUKT2gsIHllc3RlcmRheSBjYW1lIHN1ZGRlbmx5LgoK\\nV2h5IHNoZSBoYWQgdG8gZ28/CkkgZG9uJ3Qga25vdywgc2hlIHdvdWxkbid0\\nIHNheQpJIHNhaWQgc29tZXRoaW5nIHdyb25nCk5vdyBJIGxvbmcgZm9yIHll\\nc3RlcmRheS4KClllc3RlcmRheSBsb3ZlIHdhcyBzdWNoIGFuIGVhc3kgZ2Ft\\nZSB0byBwbGF5Ck5vdyBJIG5lZWQgYSBwbGFjZSB0byBoaWRlIGF3YXkKT2gs\\nIEkgYmVsaWV2ZSBpbiB5ZXN0ZXJkYXkuCgpXaHkgc2hlIGhhZCB0byBnbz8K\\nSSBkb24ndCBrbm93LCBzaGUgd291bGRuJ3Qgc2F5Ckkgc2FpZCBzb21ldGhp\\nbmcgd3JvbmcKTm93IEkgbG9uZyBmb3IgeWVzdGVyZGF5LgoKWWVzdGVyZGF5\\nIGxvdmUgd2FzIHN1Y2ggYW4gZWFzeSBnYW1lIHRvIHBsYXkKTm93IEkgbmVl\\nZCBhIHBsYWNlIHRvIGhpZGUgYXdheQpPaCwgSSBiZWxpZXZlIGluIHllc3Rl\\ncmRheS4uLgo=\\n',\n 'encoding': 'base64',\n '_links': {'self': 'https://api.github.com/repos/TeamLab/introduction_to_python_TEAMLAB_MOOC/contents/code/6/yesterday.txt?ref=master',\n  'git': 'https://api.github.com/repos/TeamLab/introduction_to_python_TEAMLAB_MOOC/git/blobs/eb2fd6fc6e8fd51df6c5c15582f687c82462bd75',\n  'html': 'https://github.com/TeamLab/introduction_to_python_TEAMLAB_MOOC/blob/master/code/6/yesterday.txt'}}"
     },
     "execution_count": 29,
     "metadata": {},
     "output_type": "execute_result"
    }
   ],
   "source": [
    "parsed_req = req.json()\r\n",
    "parsed_req"
   ]
  },
  {
   "cell_type": "code",
   "execution_count": 30,
   "metadata": {},
   "outputs": [
    {
     "name": "stdout",
     "output_type": "stream",
     "text": [
      "b\"Yesterday, all my troubles seemed so far away\\nNow it looks as though they're here to stay\\noh, I believe in yesterday\\n\\nSuddenly, I'm not half the man I used to be\\nThere's a shadow hanging over me\\nOh, yesterday came suddenly.\\n\\nWhy she had to go?\\nI don't know, she wouldn't say\\nI said something wrong\\nNow I long for yesterday.\\n\\nYesterday love was such an easy game to play\\nNow I need a place to hide away\\nOh, I believe in yesterday.\\n\\nWhy she had to go?\\nI don't know, she wouldn't say\\nI said something wrong\\nNow I long for yesterday.\\n\\nYesterday love was such an easy game to play\\nNow I need a place to hide away\\nOh, I believe in yesterday...\\n\"\n"
     ]
    }
   ],
   "source": [
    "import base64\r\n",
    "byte_content = base64.b64decode(parsed_req['content'])\r\n",
    "print(byte_content)"
   ]
  },
  {
   "cell_type": "code",
   "execution_count": 31,
   "metadata": {},
   "outputs": [
    {
     "name": "stdout",
     "output_type": "stream",
     "text": [
      "Yesterday, all my troubles seemed so far away\n",
      "Now it looks as though they're here to stay\n",
      "oh, I believe in yesterday\n",
      "\n",
      "Suddenly, I'm not half the man I used to be\n",
      "There's a shadow hanging over me\n",
      "Oh, yesterday came suddenly.\n",
      "\n",
      "Why she had to go?\n",
      "I don't know, she wouldn't say\n",
      "I said something wrong\n",
      "Now I long for yesterday.\n",
      "\n",
      "Yesterday love was such an easy game to play\n",
      "Now I need a place to hide away\n",
      "Oh, I believe in yesterday.\n",
      "\n",
      "Why she had to go?\n",
      "I don't know, she wouldn't say\n",
      "I said something wrong\n",
      "Now I long for yesterday.\n",
      "\n",
      "Yesterday love was such an easy game to play\n",
      "Now I need a place to hide away\n",
      "Oh, I believe in yesterday...\n",
      "\n"
     ]
    }
   ],
   "source": [
    "lyrics = byte_content.decode()\r\n",
    "print(lyrics)"
   ]
  },
  {
   "cell_type": "code",
   "execution_count": 32,
   "metadata": {},
   "outputs": [
    {
     "data": {
      "text/plain": "9"
     },
     "execution_count": 32,
     "metadata": {},
     "output_type": "execute_result"
    }
   ],
   "source": [
    "n_of_yesterday = lyrics.lower().count('yesterday')\r\n",
    "n_of_yesterday"
   ]
  },
  {
   "cell_type": "markdown",
   "metadata": {},
   "source": [
    "### 문자열 <-> ascii code 변환\r\n",
    "    - ord()\r\n",
    "    - chr()"
   ]
  },
  {
   "cell_type": "code",
   "execution_count": 1,
   "metadata": {},
   "outputs": [
    {
     "data": {
      "text/plain": "65"
     },
     "execution_count": 1,
     "metadata": {},
     "output_type": "execute_result"
    }
   ],
   "source": [
    "ord('A')"
   ]
  },
  {
   "cell_type": "code",
   "execution_count": 2,
   "metadata": {},
   "outputs": [
    {
     "data": {
      "text/plain": "'B'"
     },
     "execution_count": 2,
     "metadata": {},
     "output_type": "execute_result"
    }
   ],
   "source": [
    "chr(ord('A')+1)"
   ]
  },
  {
   "cell_type": "code",
   "execution_count": 4,
   "metadata": {},
   "outputs": [
    {
     "data": {
      "text/plain": "'HFY'"
     },
     "execution_count": 4,
     "metadata": {},
     "output_type": "execute_result"
    }
   ],
   "source": [
    "word = chr(ord('C')+5) + chr(ord('A')+5) + chr(ord('T')+5)\r\n",
    "word"
   ]
  },
  {
   "cell_type": "code",
   "execution_count": 5,
   "metadata": {},
   "outputs": [
    {
     "data": {
      "text/plain": "'HFY'"
     },
     "execution_count": 5,
     "metadata": {},
     "output_type": "execute_result"
    }
   ],
   "source": [
    "word = ''\r\n",
    "for c in 'CAT':\r\n",
    "    word += chr(ord(c)+5)\r\n",
    "word"
   ]
  },
  {
   "cell_type": "code",
   "execution_count": 7,
   "metadata": {},
   "outputs": [
    {
     "data": {
      "text/plain": "'HFY'"
     },
     "execution_count": 7,
     "metadata": {},
     "output_type": "execute_result"
    }
   ],
   "source": [
    "word = ''.join(chr(ord(c) + 5) for c in 'CAT')\r\n",
    "word"
   ]
  },
  {
   "cell_type": "code",
   "execution_count": 8,
   "metadata": {},
   "outputs": [
    {
     "data": {
      "text/plain": "']^_'"
     },
     "execution_count": 8,
     "metadata": {},
     "output_type": "execute_result"
    }
   ],
   "source": [
    "word = chr(ord('X')+5) + chr(ord('Y')+5) + chr(ord('Z')+5)\r\n",
    "word"
   ]
  },
  {
   "cell_type": "markdown",
   "metadata": {},
   "source": [
    "### - 문자열 포멧"
   ]
  },
  {
   "cell_type": "code",
   "execution_count": 9,
   "metadata": {},
   "outputs": [
    {
     "data": {
      "text/plain": "'3.141592653589793, 3.142'"
     },
     "execution_count": 9,
     "metadata": {},
     "output_type": "execute_result"
    }
   ],
   "source": [
    "# a = f''-> f string\r\n",
    "import math\r\n",
    "a = f'{math.pi}, {math.pi:.3f}'\r\n",
    "a"
   ]
  },
  {
   "cell_type": "code",
   "execution_count": 11,
   "metadata": {},
   "outputs": [
    {
     "data": {
      "text/plain": "'10,000'"
     },
     "execution_count": 11,
     "metadata": {},
     "output_type": "execute_result"
    }
   ],
   "source": [
    "b = f'{10000:,}'\r\n",
    "b"
   ]
  },
  {
   "cell_type": "code",
   "execution_count": null,
   "metadata": {},
   "outputs": [],
   "source": []
  }
 ],
 "metadata": {
  "kernelspec": {
   "display_name": "Python 3.8.5 64-bit ('base': conda)",
   "name": "python385jvsc74a57bd08c1eae21719a0790335dcb83aad72b63b602cfe5cdb2bda0f60bc11d4f154e4b"
  },
  "language_info": {
   "name": "python",
   "version": ""
  },
  "orig_nbformat": 2
 },
 "nbformat": 4,
 "nbformat_minor": 2
}